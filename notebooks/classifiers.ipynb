{
 "cells": [
  {
   "cell_type": "markdown",
   "id": "65c49937-eff9-4a7d-9d96-b9bc50cf0855",
   "metadata": {},
   "source": [
    "# BrainHack 2024 Project"
   ]
  },
  {
   "cell_type": "markdown",
   "id": "4b8cda7f-14c5-40ec-9361-9d222a657c24",
   "metadata": {},
   "source": [
    "This jupyter notebook was created in the context of the **BrainHack school 2024** at Polytechnique Montréal, specifically the *\"Classifiers\"* portion of my project. \n",
    "\n",
    "It will allow **training and testing of three different classifiers** as well as their **performance comparison** on individual participants. As the original classifier's accuracy was around 50%, efforts were put into making movement decoding more robust. "
   ]
  },
  {
   "cell_type": "markdown",
   "id": "396b1ce2-213b-49e8-aec4-2846a5449ff4",
   "metadata": {},
   "source": [
    "## Importing libraries and modules"
   ]
  },
  {
   "cell_type": "code",
   "execution_count": 1,
   "id": "e57fc185-3630-436b-9821-bb7e5db6c259",
   "metadata": {},
   "outputs": [],
   "source": [
    "import os, requests\n",
    "import numpy as np\n",
    "import plotly.graph_objs as go\n",
    "import pandas as pd\n",
    "import plotly.io as pio\n",
    "from scipy import signal\n",
    "from matplotlib import colors, pyplot as plt\n",
    "from sklearn import svm\n",
    "from sklearn.svm import SVC\n",
    "from sklearn.ensemble import RandomForestClassifier\n",
    "from sklearn.preprocessing import StandardScaler\n",
    "from sklearn.model_selection import StratifiedKFold, LeaveOneOut\n",
    "from sklearn.feature_selection import RFE, SelectFromModel"
   ]
  },
  {
   "cell_type": "markdown",
   "id": "dc47f6a3-8529-4c74-9bfe-1d9b98dadd45",
   "metadata": {},
   "source": [
    "## Importing and loading dataset"
   ]
  },
  {
   "cell_type": "markdown",
   "id": "95f8abf2-db95-4875-96b1-3d0565395429",
   "metadata": {},
   "source": [
    "This section was not modified from https://github.com/Xianhui-He/Raclette-Group-2-ECoG-Motor-Imagery/tree/main"
   ]
  },
  {
   "cell_type": "code",
   "execution_count": 2,
   "id": "e8e18fe1-3ef3-49bb-9340-542108883d08",
   "metadata": {},
   "outputs": [],
   "source": [
    "fname = 'motor_imagery.npz'\n",
    "url = \"https://osf.io/ksqv8/download\"\n",
    "\n",
    "if not os.path.isfile(fname):\n",
    "  try:\n",
    "    r = requests.get(url)\n",
    "  except requests.ConnectionError:\n",
    "    print(\"!!! Failed to download data !!!\")\n",
    "  else:\n",
    "    if r.status_code != requests.codes.ok:\n",
    "      print(\"!!! Failed to download data !!!\")\n",
    "    else:\n",
    "      with open(fname, \"wb\") as fid:\n",
    "        fid.write(r.content)\n",
    "          \n",
    "alldat = np.load(fname, allow_pickle=True)['dat']"
   ]
  },
  {
   "cell_type": "markdown",
   "id": "984139d4-a02d-405b-9f78-f6ec4bcc5f3e",
   "metadata": {},
   "source": [
    "## Selecting specific electrodes"
   ]
  },
  {
   "cell_type": "markdown",
   "id": "daf2cc87-a133-4cb0-b83a-ba3ba3c821a3",
   "metadata": {},
   "source": [
    "This section was not modified from https://github.com/Xianhui-He/Raclette-Group-2-ECoG-Motor-Imagery/tree/main"
   ]
  },
  {
   "cell_type": "code",
   "execution_count": 3,
   "id": "2ab748fb-0b6b-4c5b-bd69-3458b83b48a6",
   "metadata": {},
   "outputs": [],
   "source": [
    "electrode_indexes = []\n",
    "electrode_indexes.append([])\n",
    "electrode_indexes.append([])\n",
    "\n",
    "for subject_index, subject in enumerate(alldat):\n",
    "  electrode_indexes[0].append([])\n",
    "  electrode_indexes[1].append([])\n",
    "  for gyrus_index, gyrus in enumerate(subject[0]['gyrus']):\n",
    "    if gyrus == 'Precentral Gyrus':\n",
    "      electrode_indexes[0][subject_index].append(gyrus_index)\n",
    "    elif gyrus == 'Postcentral Gyrus':\n",
    "      electrode_indexes[1][subject_index].append(gyrus_index)"
   ]
  },
  {
   "cell_type": "markdown",
   "id": "982fd08e-1bb6-4bfa-ba30-ccb8424d70e9",
   "metadata": {},
   "source": [
    "## Data processing"
   ]
  },
  {
   "cell_type": "code",
   "execution_count": 4,
   "id": "fa9bb3ad-1556-4064-ba7a-10e35e2d9b35",
   "metadata": {},
   "outputs": [],
   "source": [
    "def get_data_label_allroi(sub_ID, condi_ID, time_ID, band_limit):\n",
    "  # Input:\n",
    "    # sub_ID: 0-6\n",
    "    # condi_ID: 0 refers to actual movement, 1 refers to imagery movement\n",
    "    # time_ID: 0 refers to the first second, 1 refers to the sencond second\n",
    "    # band_limit: band pass filter parameters, for example, input [8, 12] to obtain alpha power\n",
    "\n",
    "  # output:\n",
    "    # data: n_trials * n_features power matrix\n",
    "    # label: n_trials label array\n",
    "\n",
    "  dat = alldat[sub_ID][condi_ID] \n",
    "  ele_used = np.concatenate((electrode_indexes[0][sub_ID],electrode_indexes[1][sub_ID]), axis=0)\n",
    "    \n",
    "  # filter the data\n",
    "    \n",
    "  # V is the voltage data\n",
    "  V = dat['V'].astype('float32')\n",
    "  V = V[:, ele_used]\n",
    "\n",
    "  # band-pass filter below band_limit[1] Hz\n",
    "  b, a = signal.butter(3, band_limit, btype='bandpass', fs=1000) #this was the only line changed from the original code\n",
    "  V = signal.filtfilt(b, a, V, 0)\n",
    "\n",
    "  # calculate the power (hilbert)\n",
    "  V_tmp = signal.hilbert(V) \n",
    "  V = np.abs(V_tmp) ** 2\n",
    "\n",
    "  # data reconstruction into different epochs \n",
    "  nt, nchan = V.shape\n",
    "  nstim = len(dat['t_on'])\n",
    "  trange = np.arange(0, 2000)\n",
    "  ts = dat['t_on'][:, np.newaxis]\n",
    "  ts = ts + trange\n",
    "  V_epochs = np.reshape(V[ts, :], (nstim, 2000, nchan))\n",
    "\n",
    "  # average every 20 ms to obtain 50 time points for each channel\n",
    "  data = np.empty((nstim,0),int)\n",
    "  for it in range(50):\n",
    "    V_epochs_tmp = V_epochs[:, [it * 20 + time_ID * 1000, (it + 1) * 20 - 1 + time_ID * 1000], :]\n",
    "    data_tmp = np.mean(V_epochs_tmp, 1)\n",
    "    data = np.hstack((data, data_tmp))\n",
    "  label = dat['stim_id']\n",
    "\n",
    "  return data, label"
   ]
  },
  {
   "cell_type": "markdown",
   "id": "620ab9fb-22d0-4b6b-93ec-c749940ca3fe",
   "metadata": {},
   "source": [
    "## Defining plotting function"
   ]
  },
  {
   "cell_type": "code",
   "execution_count": 5,
   "id": "d9475cfb-a701-40ab-b37f-1986347ab7dd",
   "metadata": {},
   "outputs": [],
   "source": [
    "def plot_classifier_performance(test_set_acc, num_subjects, condition_name, condition_idx, color, file_name):\n",
    "    x_indices = np.arange(num_subjects)  \n",
    "    bar_width = 0.35  \n",
    "    \n",
    "    fig, ax = plt.subplots(nrows=1, ncols=1, figsize=(10, 5))\n",
    "    ax.set_title(f\"Classifier Performance for {condition_name} Condition (Time 2)\")\n",
    "    positions = x_indices  \n",
    "\n",
    "    # Calculate mean and standard error for the condition at Time 2\n",
    "    y_condition = np.mean(test_set_acc[:, condition_idx])\n",
    "    yerr_condition = np.std(test_set_acc[:, condition_idx]) * 1.96 / np.sqrt(num_subjects)\n",
    "\n",
    "    # Plot bars for individual subjects for the condition at Time 2\n",
    "    for isub in range(num_subjects):\n",
    "        ax.bar(positions[isub], test_set_acc[isub, condition_idx], color=color, \n",
    "               width=bar_width, alpha=0.7, edgecolor='k')\n",
    "\n",
    "    ax.set_xticks(x_indices)\n",
    "    ax.set_xticklabels([f'Subj {i + 1}' for i in range(num_subjects)])\n",
    "    ax.set(\n",
    "        yticks=[0, 0.25, 0.5, 0.75, 1],\n",
    "        ylabel='Accuracy',\n",
    "        ylim=(0, 1)\n",
    "    )\n",
    "    plt.hlines(0.5, -0.5, num_subjects, colors='k', linestyles='dashed')\n",
    "    plt.legend(loc='upper right')\n",
    "    plt.tight_layout(rect=[0, 0.03, 1, 0.95])\n",
    "    plt.savefig(file_name) \n",
    "    plt.show()"
   ]
  },
  {
   "cell_type": "markdown",
   "id": "dbe43507-a806-46db-9df1-bc28d1e5bbc4",
   "metadata": {},
   "source": [
    "# Classifiers:"
   ]
  },
  {
   "cell_type": "markdown",
   "id": "81c2b331-eb90-4807-8bf3-4485a320db2a",
   "metadata": {},
   "source": [
    "## Classifier 1: Unmodified SVM"
   ]
  },
  {
   "cell_type": "markdown",
   "id": "04e2bb33-04b3-40ac-8c56-42d42a542718",
   "metadata": {},
   "source": [
    "Gneral Description: \n",
    "\n",
    "This classifier was taken from the Raclette Group 2 during their project in Neuromatch Academy computational neuroscience. \n",
    "It consists of an SVM (support vector machine) with a linear kernel and a C parameter equal to 1. \n",
    "\n",
    "Modifications: \n",
    "\n",
    "The original classifier code only (https://github.com/Xianhui-He/Raclette-Group-2-ECoG-Motor-Imagery/tree/main) presented training scores, cross-validation scores and generalization to the other condition scores (actual vs imagined movement). It has been adapted to show testing scores on data from the same condition.  "
   ]
  },
  {
   "cell_type": "code",
   "execution_count": 12,
   "id": "8cbce08c-7f60-48aa-b787-ee3b609d376b",
   "metadata": {},
   "outputs": [],
   "source": [
    "def train_orig_svm_fixed_split(sub_ID, condi_ID, time_ID, band_limit, test_indices):\n",
    "    # Load data and labels\n",
    "    data, label = get_data_label_allroi(sub_ID, condi_ID, time_ID, band_limit)\n",
    "    \n",
    "    # Define training indices by excluding test indices\n",
    "    train_indices = [i for i in range(len(data)) if i not in test_indices]\n",
    "    \n",
    "    # Split data into training and test sets using predefined indices\n",
    "    data_train = data[train_indices]\n",
    "    label_train = label[train_indices]\n",
    "    data_test = data[test_indices]\n",
    "    label_test = label[test_indices]\n",
    "\n",
    "    # Arrays to store accuracies for each trial in LOO\n",
    "    test_accuracies = np.ones(len(data_train))\n",
    "    train_accuracies = np.ones(len(data_train))\n",
    "    \n",
    "    # Leave-One-Out Cross-Validation on training data\n",
    "    loo = LeaveOneOut()\n",
    "    loo.get_n_splits(data_train)\n",
    "\n",
    "    for train_index, test_index in loo.split(data_train):\n",
    "        classifier = svm.SVC(C=1, kernel='linear')\n",
    "        classifier.fit(data_train[train_index], label_train[train_index])\n",
    "        \n",
    "        train_accuracies[test_index] = classifier.score(data_train[train_index], label_train[train_index])\n",
    "        test_accuracies[test_index] = classifier.score(data_train[test_index], label_train[test_index])\n",
    "\n",
    "    # Train final classifier on the entire training set\n",
    "    classifier_final = svm.SVC(C=1, kernel='linear')\n",
    "    classifier_final.fit(data_train, label_train)\n",
    "\n",
    "    # Evaluate on the separate test set\n",
    "    test_set_accuracy = classifier_final.score(data_test, label_test)\n",
    "\n",
    "    # Generalization to another condition\n",
    "    gen_data, gen_label = get_data_label_allroi(sub_ID, 1 - condi_ID, time_ID, band_limit)\n",
    "    gen_acc = classifier_final.score(gen_data, gen_label)\n",
    "\n",
    "    return test_accuracies.mean(), train_accuracies.mean(), test_set_accuracy, gen_acc"
   ]
  },
  {
   "cell_type": "markdown",
   "id": "eec598a5-96b1-4ace-bb33-e15b9fcc2ee9",
   "metadata": {},
   "source": [
    "## Plotting individual performances"
   ]
  },
  {
   "cell_type": "code",
   "execution_count": 13,
   "id": "e8ed35a1-3308-4705-9793-e2b5ff9f08ed",
   "metadata": {},
   "outputs": [],
   "source": [
    "total_samples = len(get_data_label_allroi(0, 0, 1, [13, 30])[0])  # Time ID = 1 for Time 2\n",
    "fixed_test_indices = list(range(int(0.8 * total_samples), total_samples))\n",
    "\n",
    "# Initialize arrays to store results\n",
    "band_limit = [13, 30]  # Example frequency band\n",
    "num_subjects = 7  # Example number of subjects\n",
    "\n",
    "test_set_acc = np.zeros((num_subjects, 2))  # Store test accuracies for 2 conditions (actual, imagery)\n",
    "\n",
    "for isub in range(num_subjects):\n",
    "    for icondi in range(2):  # 0: Actual, 1: Imagined\n",
    "        avg_test_acc, avg_train_acc, test_acc, gen_acc = train_orig_svm_fixed_split(isub, icondi, 1, band_limit, fixed_test_indices)\n",
    "        test_set_acc[isub, icondi] = test_acc"
   ]
  },
  {
   "cell_type": "code",
   "execution_count": 14,
   "id": "8d21da36-d8c6-4f02-92b1-078b7699747a",
   "metadata": {},
   "outputs": [
    {
     "name": "stderr",
     "output_type": "stream",
     "text": [
      "No artists with labels found to put in legend.  Note that artists whose label start with an underscore are ignored when legend() is called with no argument.\n"
     ]
    },
    {
     "data": {
      "image/png": "[encoded data removed]",
      "text/plain": [
       "<Figure size 1000x500 with 1 Axes>"
      ]
     },
     "metadata": {},
     "output_type": "display_data"
    },
    {
     "name": "stderr",
     "output_type": "stream",
     "text": [
      "No artists with labels found to put in legend.  Note that artists whose label start with an underscore are ignored when legend() is called with no argument.\n"
     ]
    },
    {
     "data": {
      "image/png": "[encoded data removed]",
      "text/plain": [
       "<Figure size 1000x500 with 1 Axes>"
      ]
     },
     "metadata": {},
     "output_type": "display_data"
    }
   ],
   "source": [
    "# Plot for Actual Condition\n",
    "plot_classifier_performance(test_set_acc, num_subjects, \"Actual\", 0, 'salmon', \"Actual_Condition_Time2.png\")\n",
    "# Plot for Imagined Condition\n",
    "plot_classifier_performance(test_set_acc, num_subjects, \"Imagined\", 1, 'deepskyblue', \"Imagined_Condition_Time2.png\")"
   ]
  },
  {
   "cell_type": "markdown",
   "id": "783c8011-d055-46e9-aa5d-232ee131d61e",
   "metadata": {},
   "source": [
    "## Classifier 2: Modified SVM"
   ]
  },
  {
   "cell_type": "markdown",
   "id": "415cb3df-dda9-4ebb-9605-d0edc870ed90",
   "metadata": {},
   "source": [
    "General Description:\n",
    "\n",
    "Modifications:\n",
    "1. Data Standardization, using StandardScaler(), by removing the mean and scaling to unit variance\n",
    "2. Feature Selection with RFE (recursive feature elimination) using RFE()"
   ]
  },
  {
   "cell_type": "code",
   "execution_count": 15,
   "id": "f4a1b191-0d0f-4346-88ed-fa07317cfbe7",
   "metadata": {},
   "outputs": [],
   "source": [
    "def train_svm_fixed_split(sub_ID, condi_ID, time_ID, band_limit, test_indices):\n",
    "    # Load data and labels\n",
    "    data, label = get_data_label_allroi(sub_ID, condi_ID, time_ID, band_limit)\n",
    "\n",
    "    # Standardize the data\n",
    "    scaler = StandardScaler()\n",
    "    data = scaler.fit_transform(data)\n",
    "\n",
    "    # Define training indices by excluding test indices\n",
    "    train_indices = [i for i in range(len(data)) if i not in test_indices]\n",
    "\n",
    "    # Split data into training and test sets using predefined indices\n",
    "    data_train = data[train_indices]\n",
    "    label_train = label[train_indices]\n",
    "    data_test = data[test_indices]\n",
    "    label_test = label[test_indices]\n",
    "\n",
    "    loo_test_accuracies = []\n",
    "    train_accuracies = np.zeros(len(data_train))\n",
    "    \n",
    "    # Leave-One-Out Cross-Validation on training data\n",
    "    loo = LeaveOneOut()\n",
    "    loo.get_n_splits(data_train)\n",
    "\n",
    "    for train_index, val_index in loo.split(data_train):\n",
    "        # Feature selection with RFE\n",
    "        base_svc = SVC(kernel='linear', C=1)\n",
    "        selector = RFE(base_svc, n_features_to_select=50, step=10)\n",
    "        train_data = selector.fit_transform(data_train[train_index], label_train[train_index])\n",
    "        val_data = selector.transform(data_train[val_index])\n",
    "\n",
    "        # Train the classifier\n",
    "        classifier = SVC(C=1, kernel='linear')\n",
    "        classifier.fit(train_data, label_train[train_index])\n",
    "\n",
    "        # Evaluate performance on the validation data\n",
    "        val_acc = classifier.score(val_data, label_train[val_index])\n",
    "        loo_test_accuracies.append(val_acc)\n",
    "        \n",
    "        # Store training accuracy\n",
    "        train_accuracies[val_index] = classifier.score(train_data, label_train[train_index])\n",
    "\n",
    "    avg_loo_test_acc = np.mean(loo_test_accuracies)\n",
    "\n",
    "    # Train final classifier on the entire training set\n",
    "    final_selector = RFE(SVC(kernel='linear', C=1), n_features_to_select=50, step=10)\n",
    "    data_train_selected = final_selector.fit_transform(data_train, label_train)\n",
    "    data_test_selected = final_selector.transform(data_test)\n",
    "\n",
    "    classifier_final = SVC(C=1, kernel='linear')\n",
    "    classifier_final.fit(data_train_selected, label_train)\n",
    "\n",
    "    # Evaluate on the separate test set\n",
    "    test_set_accuracy = classifier_final.score(data_test_selected, label_test)\n",
    "\n",
    "    # Generalization to another condition\n",
    "    gen_data, gen_label = get_data_label_allroi(sub_ID, 1 - condi_ID, time_ID, band_limit)\n",
    "    gen_data = scaler.transform(gen_data)\n",
    "    gen_data_selected = final_selector.transform(gen_data)\n",
    "    gen_acc = classifier_final.score(gen_data_selected, gen_label)\n",
    "\n",
    "    return avg_loo_test_acc, train_accuracies.mean(), test_set_accuracy, gen_acc"
   ]
  },
  {
   "cell_type": "markdown",
   "id": "e2941822-ca2a-4022-912a-89a840f333a1",
   "metadata": {},
   "source": [
    "## Plotting individual performance"
   ]
  },
  {
   "cell_type": "code",
   "execution_count": 16,
   "id": "e9ea1ef8-4c40-4df4-9fd5-0ea767d948a0",
   "metadata": {},
   "outputs": [],
   "source": [
    "for isub in range(num_subjects):\n",
    "    for icondi in range(2):  # 0: Actual, 1: Imagined\n",
    "        avg_loo_test_acc, train_acc, test_acc, gen_acc = train_svm_fixed_split(isub, icondi, 1, band_limit, fixed_test_indices)\n",
    "        test_set_acc[isub, icondi] = test_acc"
   ]
  },
  {
   "cell_type": "code",
   "execution_count": 17,
   "id": "5569ffc5-4a72-4253-8b6d-e85df5658406",
   "metadata": {},
   "outputs": [
    {
     "name": "stderr",
     "output_type": "stream",
     "text": [
      "No artists with labels found to put in legend.  Note that artists whose label start with an underscore are ignored when legend() is called with no argument.\n"
     ]
    },
    {
     "data": {
      "image/png": "[encoded data removed]",
      "text/plain": [
       "<Figure size 1000x500 with 1 Axes>"
      ]
     },
     "metadata": {},
     "output_type": "display_data"
    },
    {
     "name": "stderr",
     "output_type": "stream",
     "text": [
      "No artists with labels found to put in legend.  Note that artists whose label start with an underscore are ignored when legend() is called with no argument.\n"
     ]
    },
    {
     "data": {
      "image/png": "[encoded data removed]",
      "text/plain": [
       "<Figure size 1000x500 with 1 Axes>"
      ]
     },
     "metadata": {},
     "output_type": "display_data"
    }
   ],
   "source": [
    "# Plot for Actual Condition\n",
    "plot_classifier_performance(test_set_acc, num_subjects, \"Actual\", 0, 'salmon', \"Actual_Condition_Time2.png\")\n",
    "# Plot for Imagined Condition\n",
    "plot_classifier_performance(test_set_acc, num_subjects, \"Imagined\", 1, 'deepskyblue', \"Imagined_Condition_Time2.png\")"
   ]
  },
  {
   "cell_type": "markdown",
   "id": "479b862a-ca15-406e-b700-147966aa80ee",
   "metadata": {},
   "source": [
    "## Classifier 3: Random Forest Classifier"
   ]
  },
  {
   "cell_type": "markdown",
   "id": "0ba8cbde-89c7-42af-91c0-5a7cfec4aef5",
   "metadata": {},
   "source": [
    "Description:\n",
    "\n",
    "It's a Random Forest classifier with data standardization using StandardScaler( ) and feature selection using SelectFromModel( )"
   ]
  },
  {
   "cell_type": "code",
   "execution_count": 18,
   "id": "922a0023-f997-4d10-85f3-f22841b3affa",
   "metadata": {},
   "outputs": [],
   "source": [
    "def train_rf_fixed_split(sub_ID, condi_ID, time_ID, band_limit, test_indices):\n",
    "    # Load data and labels\n",
    "    data, label = get_data_label_allroi(sub_ID, condi_ID, time_ID, band_limit)\n",
    "\n",
    "    # Standardize the data\n",
    "    scaler = StandardScaler()\n",
    "    data = scaler.fit_transform(data)\n",
    "\n",
    "    # Define training indices by excluding test indices\n",
    "    train_indices = [i for i in range(len(data)) if i not in test_indices]\n",
    "\n",
    "    # Split data into training and test sets using predefined indices\n",
    "    data_train = data[train_indices]\n",
    "    label_train = label[train_indices]\n",
    "    data_test = data[test_indices]\n",
    "    label_test = label[test_indices]\n",
    "\n",
    "    # Arrays to store accuracies for each trial in LOO\n",
    "    loo_test_accuracies = []\n",
    "    train_accuracies = np.zeros(len(data_train))\n",
    "    \n",
    "    # Leave-One-Out Cross-Validation on training data\n",
    "    loo = LeaveOneOut()\n",
    "    loo.get_n_splits(data_train)\n",
    "\n",
    "    for train_index, val_index in loo.split(data_train):\n",
    "        # Feature selection with SelectFromModel\n",
    "        base_rf = RandomForestClassifier(n_estimators=100, random_state=42)\n",
    "        selector = SelectFromModel(base_rf, threshold='median')\n",
    "        train_data = selector.fit_transform(data_train[train_index], label_train[train_index])\n",
    "        val_data = selector.transform(data_train[val_index])\n",
    "\n",
    "        # Train the classifier\n",
    "        classifier = RandomForestClassifier(n_estimators=100, random_state=42)\n",
    "        classifier.fit(train_data, label_train[train_index])\n",
    "\n",
    "        # Evaluate performance on the validation data\n",
    "        val_acc = classifier.score(val_data, label_train[val_index])\n",
    "        loo_test_accuracies.append(val_acc)\n",
    "        \n",
    "        # Store training accuracy\n",
    "        train_accuracies[val_index] = classifier.score(train_data, label_train[train_index])\n",
    "\n",
    "    avg_loo_test_acc = np.mean(loo_test_accuracies)\n",
    "\n",
    "    # Train final classifier on the entire training set\n",
    "    final_selector = SelectFromModel(RandomForestClassifier(n_estimators=100, random_state=42), threshold='median')\n",
    "    data_train_selected = final_selector.fit_transform(data_train, label_train)\n",
    "    data_test_selected = final_selector.transform(data_test)\n",
    "\n",
    "    classifier_final = RandomForestClassifier(n_estimators=100, random_state=42)\n",
    "    classifier_final.fit(data_train_selected, label_train)\n",
    "\n",
    "    # Evaluate on the separate test set\n",
    "    test_set_accuracy = classifier_final.score(data_test_selected, label_test)\n",
    "\n",
    "    # Generalization to another condition\n",
    "    gen_data, gen_label = get_data_label_allroi(sub_ID, 1 - condi_ID, time_ID, band_limit)\n",
    "    gen_data = scaler.transform(gen_data)\n",
    "    gen_data_selected = final_selector.transform(gen_data)\n",
    "    gen_acc = classifier_final.score(gen_data_selected, gen_label)\n",
    "\n",
    "    return avg_loo_test_acc, train_accuracies.mean(), test_set_accuracy, gen_acc\n"
   ]
  },
  {
   "cell_type": "markdown",
   "id": "287e82db-a5e4-43a5-ae8e-3974b017dd42",
   "metadata": {},
   "source": [
    "## Plotting individual performance"
   ]
  },
  {
   "cell_type": "code",
   "execution_count": 19,
   "id": "d46accae-37fb-41be-b3ce-98929d888e18",
   "metadata": {},
   "outputs": [],
   "source": [
    "for isub in range(num_subjects):\n",
    "    for icondi in range(2):  # 0: Actual, 1: Imagined\n",
    "        avg_loo_test_acc, train_acc, test_acc, gen_acc = train_rf_fixed_split(isub, icondi, 1, band_limit, fixed_test_indices)\n",
    "        test_set_acc[isub, icondi] = test_acc"
   ]
  },
  {
   "cell_type": "code",
   "execution_count": 20,
   "id": "81b55d69-0b49-4da8-9b00-f2942cadbe58",
   "metadata": {},
   "outputs": [
    {
     "name": "stderr",
     "output_type": "stream",
     "text": [
      "No artists with labels found to put in legend.  Note that artists whose label start with an underscore are ignored when legend() is called with no argument.\n"
     ]
    },
    {
     "data": {
      "image/png": "[encoded data removed]",
      "text/plain": [
       "<Figure size 1000x500 with 1 Axes>"
      ]
     },
     "metadata": {},
     "output_type": "display_data"
    },
    {
     "name": "stderr",
     "output_type": "stream",
     "text": [
      "No artists with labels found to put in legend.  Note that artists whose label start with an underscore are ignored when legend() is called with no argument.\n"
     ]
    },
    {
     "data": {
      "image/png": "[encoded data removed]",
      "text/plain": [
       "<Figure size 1000x500 with 1 Axes>"
      ]
     },
     "metadata": {},
     "output_type": "display_data"
    }
   ],
   "source": [
    "# Plot for Actual Condition\n",
    "plot_classifier_performance(test_set_acc, num_subjects, \"Actual\", 0, 'salmon', \"Actual_Condition_Time2.png\")\n",
    "# Plot for Imagined Condition\n",
    "plot_classifier_performance(test_set_acc, num_subjects, \"Imagined\", 1, 'deepskyblue', \"Imagined_Condition_Time2.png\")"
   ]
  },
  {
   "cell_type": "code",
   "execution_count": 21,
   "id": "179b9f62-a148-4d3e-9d1b-2aac2285918a",
   "metadata": {},
   "outputs": [],
   "source": [
    "num_subjects = 7  # Adjust based on the actual number of subjects\n",
    "band_limit = [8, 12]  # Frequency band\n",
    "time_ID = 1  # Time ID for data extraction\n",
    "fixed_test_indices = list(range(int(0.8 * len(get_data_label_allroi(0, 0, time_ID, band_limit)[0])), len(get_data_label_allroi(0, 0, time_ID, band_limit)[0])))\n",
    "\n",
    "# Collect performance data for actual and imagined conditions\n",
    "performance_data_actual = {'Subjects': []}\n",
    "performance_data_imagined = {'Subjects': []}\n",
    "classifier_names = ['SVM original', 'SVM RFE', 'Random Forest']\n",
    "\n",
    "# Initialize arrays to store performance\n",
    "test_set_acc_actual = np.zeros((num_subjects, len(classifier_names)))\n",
    "test_set_acc_imagined = np.zeros((num_subjects, len(classifier_names)))\n",
    "\n",
    "for isub in range(num_subjects):\n",
    "    performance_data_actual['Subjects'].append(f'Subject_{isub+1}')\n",
    "    performance_data_imagined['Subjects'].append(f'Subject_{isub+1}')\n",
    "    for i, clf_name in enumerate(classifier_names):\n",
    "        if clf_name == 'SVM original':\n",
    "            _, _, test_acc_actual, _ = train_orig_svm_fixed_split(isub, 0, time_ID, band_limit, fixed_test_indices)\n",
    "            _, _, test_acc_imagined, _ = train_orig_svm_fixed_split(isub, 1, time_ID, band_limit, fixed_test_indices)\n",
    "        elif clf_name == 'SVM RFE':\n",
    "            _, _, test_acc_actual, _ = train_svm_fixed_split(isub, 0, time_ID, band_limit, fixed_test_indices)\n",
    "            _, _, test_acc_imagined, _ = train_svm_fixed_split(isub, 1, time_ID, band_limit, fixed_test_indices)\n",
    "        elif clf_name == 'Random Forest':\n",
    "            _, _, test_acc_actual, _ = train_rf_fixed_split(isub, 0, time_ID, band_limit, fixed_test_indices)\n",
    "            _, _, test_acc_imagined, _ = train_rf_fixed_split(isub, 1, time_ID, band_limit, fixed_test_indices)\n",
    "        \n",
    "        test_set_acc_actual[isub, i] = test_acc_actual\n",
    "        test_set_acc_imagined[isub, i] = test_acc_imagined\n",
    "\n",
    "# Convert to DataFrames for easier plotting\n",
    "performance_df_actual = pd.DataFrame(test_set_acc_actual, index=performance_data_actual['Subjects'], columns=classifier_names)\n",
    "performance_df_imagined = pd.DataFrame(test_set_acc_imagined, index=performance_data_imagined['Subjects'], columns=classifier_names)\n"
   ]
  },
  {
   "cell_type": "code",
   "execution_count": 25,
   "id": "15ad5391-af0a-4517-8a43-3d6a091120c9",
   "metadata": {},
   "outputs": [
    {
     "data": {
      "application/vnd.plotly.v1+json": {
       "config": {
        "plotlyServerURL": "https://plot.ly"
       },
       "data": [
        {
         "marker": {
          "color": "lightblue"
         },
         "name": "SVM original",
         "type": "bar",
         "width": 0.25,
         "x": [
          "Subject_1",
          "Subject_2",
          "Subject_3",
          "Subject_4",
          "Subject_5",
          "Subject_6",
          "Subject_7"
         ],
         "y": [
          0.8333333333333334,
          0.5,
          0.5,
          0.4166666666666667,
          0.6666666666666666,
          0.5,
          0.8333333333333334
         ]
        },
        {
         "marker": {
          "color": "lightpink"
         },
         "name": "SVM RFE",
         "type": "bar",
         "width": 0.25,
         "x": [
          "Subject_1",
          "Subject_2",
          "Subject_3",
          "Subject_4",
          "Subject_5",
          "Subject_6",
          "Subject_7"
         ],
         "y": [
          0.9166666666666666,
          0.5,
          0.5833333333333334,
          0.5,
          0.6666666666666666,
          0.75,
          0.5
         ]
        },
        {
         "marker": {
          "color": "mediumpurple"
         },
         "name": "Random Forest",
         "type": "bar",
         "width": 0.25,
         "x": [
          "Subject_1",
          "Subject_2",
          "Subject_3",
          "Subject_4",
          "Subject_5",
          "Subject_6",
          "Subject_7"
         ],
         "y": [
          0.8333333333333334,
          0.4166666666666667,
          0.4166666666666667,
          0.5833333333333334,
          0.75,
          0.4166666666666667,
          0.8333333333333334
         ]
        }
       ],
       "layout": {
        "autosize": true,
        "bargap": 0.15,
        "bargroupgap": 0.1,
        "barmode": "group",
        "dragmode": "pan",
        "legend": {
         "x": 1,
         "y": 1
        },
        "template": {
         "data": {
          "bar": [
           {
            "error_x": {
             "color": "rgb(36,36,36)"
            },
            "error_y": {
             "color": "rgb(36,36,36)"
            },
            "marker": {
             "line": {
              "color": "white",
              "width": 0.5
             },
             "pattern": {
              "fillmode": "overlay",
              "size": 10,
              "solidity": 0.2
             }
            },
            "type": "bar"
           }
          ],
          "barpolar": [
           {
            "marker": {
             "line": {
              "color": "white",
              "width": 0.5
             },
             "pattern": {
              "fillmode": "overlay",
              "size": 10,
              "solidity": 0.2
             }
            },
            "type": "barpolar"
           }
          ],
          "carpet": [
           {
            "aaxis": {
             "endlinecolor": "rgb(36,36,36)",
             "gridcolor": "white",
             "linecolor": "white",
             "minorgridcolor": "white",
             "startlinecolor": "rgb(36,36,36)"
            },
            "baxis": {
             "endlinecolor": "rgb(36,36,36)",
             "gridcolor": "white",
             "linecolor": "white",
             "minorgridcolor": "white",
             "startlinecolor": "rgb(36,36,36)"
            },
            "type": "carpet"
           }
          ],
          "choropleth": [
           {
            "colorbar": {
             "outlinewidth": 1,
             "tickcolor": "rgb(36,36,36)",
             "ticks": "outside"
            },
            "type": "choropleth"
           }
          ],
          "contour": [
           {
            "colorbar": {
             "outlinewidth": 1,
             "tickcolor": "rgb(36,36,36)",
             "ticks": "outside"
            },
            "colorscale": [
             [
              0,
              "#440154"
             ],
             [
              0.1111111111111111,
              "#482878"
             ],
             [
              0.2222222222222222,
              "#3e4989"
             ],
             [
              0.3333333333333333,
              "#31688e"
             ],
             [
              0.4444444444444444,
              "#26828e"
             ],
             [
              0.5555555555555556,
              "#1f9e89"
             ],
             [
              0.6666666666666666,
              "#35b779"
             ],
             [
              0.7777777777777778,
              "#6ece58"
             ],
             [
              0.8888888888888888,
              "#b5de2b"
             ],
             [
              1,
              "#fde725"
             ]
            ],
            "type": "contour"
           }
          ],
          "contourcarpet": [
           {
            "colorbar": {
             "outlinewidth": 1,
             "tickcolor": "rgb(36,36,36)",
             "ticks": "outside"
            },
            "type": "contourcarpet"
           }
          ],
          "heatmap": [
           {
            "colorbar": {
             "outlinewidth": 1,
             "tickcolor": "rgb(36,36,36)",
             "ticks": "outside"
            },
            "colorscale": [
             [
              0,
              "#440154"
             ],
             [
              0.1111111111111111,
              "#482878"
             ],
             [
              0.2222222222222222,
              "#3e4989"
             ],
             [
              0.3333333333333333,
              "#31688e"
             ],
             [
              0.4444444444444444,
              "#26828e"
             ],
             [
              0.5555555555555556,
              "#1f9e89"
             ],
             [
              0.6666666666666666,
              "#35b779"
             ],
             [
              0.7777777777777778,
              "#6ece58"
             ],
             [
              0.8888888888888888,
              "#b5de2b"
             ],
             [
              1,
              "#fde725"
             ]
            ],
            "type": "heatmap"
           }
          ],
          "heatmapgl": [
           {
            "colorbar": {
             "outlinewidth": 1,
             "tickcolor": "rgb(36,36,36)",
             "ticks": "outside"
            },
            "colorscale": [
             [
              0,
              "#440154"
             ],
             [
              0.1111111111111111,
              "#482878"
             ],
             [
              0.2222222222222222,
              "#3e4989"
             ],
             [
              0.3333333333333333,
              "#31688e"
             ],
             [
              0.4444444444444444,
              "#26828e"
             ],
             [
              0.5555555555555556,
              "#1f9e89"
             ],
             [
              0.6666666666666666,
              "#35b779"
             ],
             [
              0.7777777777777778,
              "#6ece58"
             ],
             [
              0.8888888888888888,
              "#b5de2b"
             ],
             [
              1,
              "#fde725"
             ]
            ],
            "type": "heatmapgl"
           }
          ],
          "histogram": [
           {
            "marker": {
             "line": {
              "color": "white",
              "width": 0.6
             }
            },
            "type": "histogram"
           }
          ],
          "histogram2d": [
           {
            "colorbar": {
             "outlinewidth": 1,
             "tickcolor": "rgb(36,36,36)",
             "ticks": "outside"
            },
            "colorscale": [
             [
              0,
              "#440154"
             ],
             [
              0.1111111111111111,
              "#482878"
             ],
             [
              0.2222222222222222,
              "#3e4989"
             ],
             [
              0.3333333333333333,
              "#31688e"
             ],
             [
              0.4444444444444444,
              "#26828e"
             ],
             [
              0.5555555555555556,
              "#1f9e89"
             ],
             [
              0.6666666666666666,
              "#35b779"
             ],
             [
              0.7777777777777778,
              "#6ece58"
             ],
             [
              0.8888888888888888,
              "#b5de2b"
             ],
             [
              1,
              "#fde725"
             ]
            ],
            "type": "histogram2d"
           }
          ],
          "histogram2dcontour": [
           {
            "colorbar": {
             "outlinewidth": 1,
             "tickcolor": "rgb(36,36,36)",
             "ticks": "outside"
            },
            "colorscale": [
             [
              0,
              "#440154"
             ],
             [
              0.1111111111111111,
              "#482878"
             ],
             [
              0.2222222222222222,
              "#3e4989"
             ],
             [
              0.3333333333333333,
              "#31688e"
             ],
             [
              0.4444444444444444,
              "#26828e"
             ],
             [
              0.5555555555555556,
              "#1f9e89"
             ],
             [
              0.6666666666666666,
              "#35b779"
             ],
             [
              0.7777777777777778,
              "#6ece58"
             ],
             [
              0.8888888888888888,
              "#b5de2b"
             ],
             [
              1,
              "#fde725"
             ]
            ],
            "type": "histogram2dcontour"
           }
          ],
          "mesh3d": [
           {
            "colorbar": {
             "outlinewidth": 1,
             "tickcolor": "rgb(36,36,36)",
             "ticks": "outside"
            },
            "type": "mesh3d"
           }
          ],
          "parcoords": [
           {
            "line": {
             "colorbar": {
              "outlinewidth": 1,
              "tickcolor": "rgb(36,36,36)",
              "ticks": "outside"
             }
            },
            "type": "parcoords"
           }
          ],
          "pie": [
           {
            "automargin": true,
            "type": "pie"
           }
          ],
          "scatter": [
           {
            "fillpattern": {
             "fillmode": "overlay",
             "size": 10,
             "solidity": 0.2
            },
            "type": "scatter"
           }
          ],
          "scatter3d": [
           {
            "line": {
             "colorbar": {
              "outlinewidth": 1,
              "tickcolor": "rgb(36,36,36)",
              "ticks": "outside"
             }
            },
            "marker": {
             "colorbar": {
              "outlinewidth": 1,
              "tickcolor": "rgb(36,36,36)",
              "ticks": "outside"
             }
            },
            "type": "scatter3d"
           }
          ],
          "scattercarpet": [
           {
            "marker": {
             "colorbar": {
              "outlinewidth": 1,
              "tickcolor": "rgb(36,36,36)",
              "ticks": "outside"
             }
            },
            "type": "scattercarpet"
           }
          ],
          "scattergeo": [
           {
            "marker": {
             "colorbar": {
              "outlinewidth": 1,
              "tickcolor": "rgb(36,36,36)",
              "ticks": "outside"
             }
            },
            "type": "scattergeo"
           }
          ],
          "scattergl": [
           {
            "marker": {
             "colorbar": {
              "outlinewidth": 1,
              "tickcolor": "rgb(36,36,36)",
              "ticks": "outside"
             }
            },
            "type": "scattergl"
           }
          ],
          "scattermapbox": [
           {
            "marker": {
             "colorbar": {
              "outlinewidth": 1,
              "tickcolor": "rgb(36,36,36)",
              "ticks": "outside"
             }
            },
            "type": "scattermapbox"
           }
          ],
          "scatterpolar": [
           {
            "marker": {
             "colorbar": {
              "outlinewidth": 1,
              "tickcolor": "rgb(36,36,36)",
              "ticks": "outside"
             }
            },
            "type": "scatterpolar"
           }
          ],
          "scatterpolargl": [
           {
            "marker": {
             "colorbar": {
              "outlinewidth": 1,
              "tickcolor": "rgb(36,36,36)",
              "ticks": "outside"
             }
            },
            "type": "scatterpolargl"
           }
          ],
          "scatterternary": [
           {
            "marker": {
             "colorbar": {
              "outlinewidth": 1,
              "tickcolor": "rgb(36,36,36)",
              "ticks": "outside"
             }
            },
            "type": "scatterternary"
           }
          ],
          "surface": [
           {
            "colorbar": {
             "outlinewidth": 1,
             "tickcolor": "rgb(36,36,36)",
             "ticks": "outside"
            },
            "colorscale": [
             [
              0,
              "#440154"
             ],
             [
              0.1111111111111111,
              "#482878"
             ],
             [
              0.2222222222222222,
              "#3e4989"
             ],
             [
              0.3333333333333333,
              "#31688e"
             ],
             [
              0.4444444444444444,
              "#26828e"
             ],
             [
              0.5555555555555556,
              "#1f9e89"
             ],
             [
              0.6666666666666666,
              "#35b779"
             ],
             [
              0.7777777777777778,
              "#6ece58"
             ],
             [
              0.8888888888888888,
              "#b5de2b"
             ],
             [
              1,
              "#fde725"
             ]
            ],
            "type": "surface"
           }
          ],
          "table": [
           {
            "cells": {
             "fill": {
              "color": "rgb(237,237,237)"
             },
             "line": {
              "color": "white"
             }
            },
            "header": {
             "fill": {
              "color": "rgb(217,217,217)"
             },
             "line": {
              "color": "white"
             }
            },
            "type": "table"
           }
          ]
         },
         "layout": {
          "annotationdefaults": {
           "arrowhead": 0,
           "arrowwidth": 1
          },
          "autotypenumbers": "strict",
          "coloraxis": {
           "colorbar": {
            "outlinewidth": 1,
            "tickcolor": "rgb(36,36,36)",
            "ticks": "outside"
           }
          },
          "colorscale": {
           "diverging": [
            [
             0,
             "rgb(103,0,31)"
            ],
            [
             0.1,
             "rgb(178,24,43)"
            ],
            [
             0.2,
             "rgb(214,96,77)"
            ],
            [
             0.3,
             "rgb(244,165,130)"
            ],
            [
             0.4,
             "rgb(253,219,199)"
            ],
            [
             0.5,
             "rgb(247,247,247)"
            ],
            [
             0.6,
             "rgb(209,229,240)"
            ],
            [
             0.7,
             "rgb(146,197,222)"
            ],
            [
             0.8,
             "rgb(67,147,195)"
            ],
            [
             0.9,
             "rgb(33,102,172)"
            ],
            [
             1,
             "rgb(5,48,97)"
            ]
           ],
           "sequential": [
            [
             0,
             "#440154"
            ],
            [
             0.1111111111111111,
             "#482878"
            ],
            [
             0.2222222222222222,
             "#3e4989"
            ],
            [
             0.3333333333333333,
             "#31688e"
            ],
            [
             0.4444444444444444,
             "#26828e"
            ],
            [
             0.5555555555555556,
             "#1f9e89"
            ],
            [
             0.6666666666666666,
             "#35b779"
            ],
            [
             0.7777777777777778,
             "#6ece58"
            ],
            [
             0.8888888888888888,
             "#b5de2b"
            ],
            [
             1,
             "#fde725"
            ]
           ],
           "sequentialminus": [
            [
             0,
             "#440154"
            ],
            [
             0.1111111111111111,
             "#482878"
            ],
            [
             0.2222222222222222,
             "#3e4989"
            ],
            [
             0.3333333333333333,
             "#31688e"
            ],
            [
             0.4444444444444444,
             "#26828e"
            ],
            [
             0.5555555555555556,
             "#1f9e89"
            ],
            [
             0.6666666666666666,
             "#35b779"
            ],
            [
             0.7777777777777778,
             "#6ece58"
            ],
            [
             0.8888888888888888,
             "#b5de2b"
            ],
            [
             1,
             "#fde725"
            ]
           ]
          },
          "colorway": [
           "#1F77B4",
           "#FF7F0E",
           "#2CA02C",
           "#D62728",
           "#9467BD",
           "#8C564B",
           "#E377C2",
           "#7F7F7F",
           "#BCBD22",
           "#17BECF"
          ],
          "font": {
           "color": "rgb(36,36,36)"
          },
          "geo": {
           "bgcolor": "white",
           "lakecolor": "white",
           "landcolor": "white",
           "showlakes": true,
           "showland": true,
           "subunitcolor": "white"
          },
          "hoverlabel": {
           "align": "left"
          },
          "hovermode": "closest",
          "mapbox": {
           "style": "light"
          },
          "paper_bgcolor": "white",
          "plot_bgcolor": "white",
          "polar": {
           "angularaxis": {
            "gridcolor": "rgb(232,232,232)",
            "linecolor": "rgb(36,36,36)",
            "showgrid": false,
            "showline": true,
            "ticks": "outside"
           },
           "bgcolor": "white",
           "radialaxis": {
            "gridcolor": "rgb(232,232,232)",
            "linecolor": "rgb(36,36,36)",
            "showgrid": false,
            "showline": true,
            "ticks": "outside"
           }
          },
          "scene": {
           "xaxis": {
            "backgroundcolor": "white",
            "gridcolor": "rgb(232,232,232)",
            "gridwidth": 2,
            "linecolor": "rgb(36,36,36)",
            "showbackground": true,
            "showgrid": false,
            "showline": true,
            "ticks": "outside",
            "zeroline": false,
            "zerolinecolor": "rgb(36,36,36)"
           },
           "yaxis": {
            "backgroundcolor": "white",
            "gridcolor": "rgb(232,232,232)",
            "gridwidth": 2,
            "linecolor": "rgb(36,36,36)",
            "showbackground": true,
            "showgrid": false,
            "showline": true,
            "ticks": "outside",
            "zeroline": false,
            "zerolinecolor": "rgb(36,36,36)"
           },
           "zaxis": {
            "backgroundcolor": "white",
            "gridcolor": "rgb(232,232,232)",
            "gridwidth": 2,
            "linecolor": "rgb(36,36,36)",
            "showbackground": true,
            "showgrid": false,
            "showline": true,
            "ticks": "outside",
            "zeroline": false,
            "zerolinecolor": "rgb(36,36,36)"
           }
          },
          "shapedefaults": {
           "fillcolor": "black",
           "line": {
            "width": 0
           },
           "opacity": 0.3
          },
          "ternary": {
           "aaxis": {
            "gridcolor": "rgb(232,232,232)",
            "linecolor": "rgb(36,36,36)",
            "showgrid": false,
            "showline": true,
            "ticks": "outside"
           },
           "baxis": {
            "gridcolor": "rgb(232,232,232)",
            "linecolor": "rgb(36,36,36)",
            "showgrid": false,
            "showline": true,
            "ticks": "outside"
           },
           "bgcolor": "white",
           "caxis": {
            "gridcolor": "rgb(232,232,232)",
            "linecolor": "rgb(36,36,36)",
            "showgrid": false,
            "showline": true,
            "ticks": "outside"
           }
          },
          "title": {
           "x": 0.05
          },
          "xaxis": {
           "automargin": true,
           "gridcolor": "rgb(232,232,232)",
           "linecolor": "rgb(36,36,36)",
           "showgrid": false,
           "showline": true,
           "ticks": "outside",
           "title": {
            "standoff": 15
           },
           "zeroline": false,
           "zerolinecolor": "rgb(36,36,36)"
          },
          "yaxis": {
           "automargin": true,
           "gridcolor": "rgb(232,232,232)",
           "linecolor": "rgb(36,36,36)",
           "showgrid": false,
           "showline": true,
           "ticks": "outside",
           "title": {
            "standoff": 15
           },
           "zeroline": false,
           "zerolinecolor": "rgb(36,36,36)"
          }
         }
        },
        "title": {
         "text": "Classifier Performance for Actual Movement Condition"
        },
        "xaxis": {
         "autorange": true,
         "range": [
          -0.5,
          6.5
         ],
         "tickangle": -45,
         "title": {
          "text": "Subjects"
         },
         "type": "category"
        },
        "yaxis": {
         "autorange": true,
         "range": [
          0,
          0.9649122807017544
         ],
         "tickvals": [
          0,
          0.1,
          0.2,
          0.30000000000000004,
          0.4,
          0.5,
          0.6000000000000001,
          0.7000000000000001,
          0.8,
          0.9,
          1
         ],
         "title": {
          "text": "Test Set Accuracy"
         },
         "type": "linear"
        }
       }
      },
      "image/png": "[encoded data removed]",
      "text/html": [
       "<div>                            <div id=\"fc206b0e-7f38-402d-b639-4dedac61c67d\" class=\"plotly-graph-div\" style=\"height:525px; width:100%;\"></div>            <script type=\"text/javascript\">                require([\"plotly\"], function(Plotly) {                    window.PLOTLYENV=window.PLOTLYENV || {};                                    if (document.getElementById(\"fc206b0e-7f38-402d-b639-4dedac61c67d\")) {                    Plotly.newPlot(                        \"fc206b0e-7f38-402d-b639-4dedac61c67d\",                        [{\"marker\":{\"color\":\"lightblue\"},\"name\":\"SVM original\",\"width\":0.25,\"x\":[\"Subject_1\",\"Subject_2\",\"Subject_3\",\"Subject_4\",\"Subject_5\",\"Subject_6\",\"Subject_7\"],\"y\":[0.8333333333333334,0.5,0.5,0.4166666666666667,0.6666666666666666,0.5,0.8333333333333334],\"type\":\"bar\"},{\"marker\":{\"color\":\"lightpink\"},\"name\":\"SVM RFE\",\"width\":0.25,\"x\":[\"Subject_1\",\"Subject_2\",\"Subject_3\",\"Subject_4\",\"Subject_5\",\"Subject_6\",\"Subject_7\"],\"y\":[0.9166666666666666,0.5,0.5833333333333334,0.5,0.6666666666666666,0.75,0.5],\"type\":\"bar\"},{\"marker\":{\"color\":\"mediumpurple\"},\"name\":\"Random Forest\",\"width\":0.25,\"x\":[\"Subject_1\",\"Subject_2\",\"Subject_3\",\"Subject_4\",\"Subject_5\",\"Subject_6\",\"Subject_7\"],\"y\":[0.8333333333333334,0.4166666666666667,0.4166666666666667,0.5833333333333334,0.75,0.4166666666666667,0.8333333333333334],\"type\":\"bar\"}],                        {\"template\":{\"data\":{\"barpolar\":[{\"marker\":{\"line\":{\"color\":\"white\",\"width\":0.5},\"pattern\":{\"fillmode\":\"overlay\",\"size\":10,\"solidity\":0.2}},\"type\":\"barpolar\"}],\"bar\":[{\"error_x\":{\"color\":\"rgb(36,36,36)\"},\"error_y\":{\"color\":\"rgb(36,36,36)\"},\"marker\":{\"line\":{\"color\":\"white\",\"width\":0.5},\"pattern\":{\"fillmode\":\"overlay\",\"size\":10,\"solidity\":0.2}},\"type\":\"bar\"}],\"carpet\":[{\"aaxis\":{\"endlinecolor\":\"rgb(36,36,36)\",\"gridcolor\":\"white\",\"linecolor\":\"white\",\"minorgridcolor\":\"white\",\"startlinecolor\":\"rgb(36,36,36)\"},\"baxis\":{\"endlinecolor\":\"rgb(36,36,36)\",\"gridcolor\":\"white\",\"linecolor\":\"white\",\"minorgridcolor\":\"white\",\"startlinecolor\":\"rgb(36,36,36)\"},\"type\":\"carpet\"}],\"choropleth\":[{\"colorbar\":{\"outlinewidth\":1,\"tickcolor\":\"rgb(36,36,36)\",\"ticks\":\"outside\"},\"type\":\"choropleth\"}],\"contourcarpet\":[{\"colorbar\":{\"outlinewidth\":1,\"tickcolor\":\"rgb(36,36,36)\",\"ticks\":\"outside\"},\"type\":\"contourcarpet\"}],\"contour\":[{\"colorbar\":{\"outlinewidth\":1,\"tickcolor\":\"rgb(36,36,36)\",\"ticks\":\"outside\"},\"colorscale\":[[0.0,\"#440154\"],[0.1111111111111111,\"#482878\"],[0.2222222222222222,\"#3e4989\"],[0.3333333333333333,\"#31688e\"],[0.4444444444444444,\"#26828e\"],[0.5555555555555556,\"#1f9e89\"],[0.6666666666666666,\"#35b779\"],[0.7777777777777778,\"#6ece58\"],[0.8888888888888888,\"#b5de2b\"],[1.0,\"#fde725\"]],\"type\":\"contour\"}],\"heatmapgl\":[{\"colorbar\":{\"outlinewidth\":1,\"tickcolor\":\"rgb(36,36,36)\",\"ticks\":\"outside\"},\"colorscale\":[[0.0,\"#440154\"],[0.1111111111111111,\"#482878\"],[0.2222222222222222,\"#3e4989\"],[0.3333333333333333,\"#31688e\"],[0.4444444444444444,\"#26828e\"],[0.5555555555555556,\"#1f9e89\"],[0.6666666666666666,\"#35b779\"],[0.7777777777777778,\"#6ece58\"],[0.8888888888888888,\"#b5de2b\"],[1.0,\"#fde725\"]],\"type\":\"heatmapgl\"}],\"heatmap\":[{\"colorbar\":{\"outlinewidth\":1,\"tickcolor\":\"rgb(36,36,36)\",\"ticks\":\"outside\"},\"colorscale\":[[0.0,\"#440154\"],[0.1111111111111111,\"#482878\"],[0.2222222222222222,\"#3e4989\"],[0.3333333333333333,\"#31688e\"],[0.4444444444444444,\"#26828e\"],[0.5555555555555556,\"#1f9e89\"],[0.6666666666666666,\"#35b779\"],[0.7777777777777778,\"#6ece58\"],[0.8888888888888888,\"#b5de2b\"],[1.0,\"#fde725\"]],\"type\":\"heatmap\"}],\"histogram2dcontour\":[{\"colorbar\":{\"outlinewidth\":1,\"tickcolor\":\"rgb(36,36,36)\",\"ticks\":\"outside\"},\"colorscale\":[[0.0,\"#440154\"],[0.1111111111111111,\"#482878\"],[0.2222222222222222,\"#3e4989\"],[0.3333333333333333,\"#31688e\"],[0.4444444444444444,\"#26828e\"],[0.5555555555555556,\"#1f9e89\"],[0.6666666666666666,\"#35b779\"],[0.7777777777777778,\"#6ece58\"],[0.8888888888888888,\"#b5de2b\"],[1.0,\"#fde725\"]],\"type\":\"histogram2dcontour\"}],\"histogram2d\":[{\"colorbar\":{\"outlinewidth\":1,\"tickcolor\":\"rgb(36,36,36)\",\"ticks\":\"outside\"},\"colorscale\":[[0.0,\"#440154\"],[0.1111111111111111,\"#482878\"],[0.2222222222222222,\"#3e4989\"],[0.3333333333333333,\"#31688e\"],[0.4444444444444444,\"#26828e\"],[0.5555555555555556,\"#1f9e89\"],[0.6666666666666666,\"#35b779\"],[0.7777777777777778,\"#6ece58\"],[0.8888888888888888,\"#b5de2b\"],[1.0,\"#fde725\"]],\"type\":\"histogram2d\"}],\"histogram\":[{\"marker\":{\"line\":{\"color\":\"white\",\"width\":0.6}},\"type\":\"histogram\"}],\"mesh3d\":[{\"colorbar\":{\"outlinewidth\":1,\"tickcolor\":\"rgb(36,36,36)\",\"ticks\":\"outside\"},\"type\":\"mesh3d\"}],\"parcoords\":[{\"line\":{\"colorbar\":{\"outlinewidth\":1,\"tickcolor\":\"rgb(36,36,36)\",\"ticks\":\"outside\"}},\"type\":\"parcoords\"}],\"pie\":[{\"automargin\":true,\"type\":\"pie\"}],\"scatter3d\":[{\"line\":{\"colorbar\":{\"outlinewidth\":1,\"tickcolor\":\"rgb(36,36,36)\",\"ticks\":\"outside\"}},\"marker\":{\"colorbar\":{\"outlinewidth\":1,\"tickcolor\":\"rgb(36,36,36)\",\"ticks\":\"outside\"}},\"type\":\"scatter3d\"}],\"scattercarpet\":[{\"marker\":{\"colorbar\":{\"outlinewidth\":1,\"tickcolor\":\"rgb(36,36,36)\",\"ticks\":\"outside\"}},\"type\":\"scattercarpet\"}],\"scattergeo\":[{\"marker\":{\"colorbar\":{\"outlinewidth\":1,\"tickcolor\":\"rgb(36,36,36)\",\"ticks\":\"outside\"}},\"type\":\"scattergeo\"}],\"scattergl\":[{\"marker\":{\"colorbar\":{\"outlinewidth\":1,\"tickcolor\":\"rgb(36,36,36)\",\"ticks\":\"outside\"}},\"type\":\"scattergl\"}],\"scattermapbox\":[{\"marker\":{\"colorbar\":{\"outlinewidth\":1,\"tickcolor\":\"rgb(36,36,36)\",\"ticks\":\"outside\"}},\"type\":\"scattermapbox\"}],\"scatterpolargl\":[{\"marker\":{\"colorbar\":{\"outlinewidth\":1,\"tickcolor\":\"rgb(36,36,36)\",\"ticks\":\"outside\"}},\"type\":\"scatterpolargl\"}],\"scatterpolar\":[{\"marker\":{\"colorbar\":{\"outlinewidth\":1,\"tickcolor\":\"rgb(36,36,36)\",\"ticks\":\"outside\"}},\"type\":\"scatterpolar\"}],\"scatter\":[{\"fillpattern\":{\"fillmode\":\"overlay\",\"size\":10,\"solidity\":0.2},\"type\":\"scatter\"}],\"scatterternary\":[{\"marker\":{\"colorbar\":{\"outlinewidth\":1,\"tickcolor\":\"rgb(36,36,36)\",\"ticks\":\"outside\"}},\"type\":\"scatterternary\"}],\"surface\":[{\"colorbar\":{\"outlinewidth\":1,\"tickcolor\":\"rgb(36,36,36)\",\"ticks\":\"outside\"},\"colorscale\":[[0.0,\"#440154\"],[0.1111111111111111,\"#482878\"],[0.2222222222222222,\"#3e4989\"],[0.3333333333333333,\"#31688e\"],[0.4444444444444444,\"#26828e\"],[0.5555555555555556,\"#1f9e89\"],[0.6666666666666666,\"#35b779\"],[0.7777777777777778,\"#6ece58\"],[0.8888888888888888,\"#b5de2b\"],[1.0,\"#fde725\"]],\"type\":\"surface\"}],\"table\":[{\"cells\":{\"fill\":{\"color\":\"rgb(237,237,237)\"},\"line\":{\"color\":\"white\"}},\"header\":{\"fill\":{\"color\":\"rgb(217,217,217)\"},\"line\":{\"color\":\"white\"}},\"type\":\"table\"}]},\"layout\":{\"annotationdefaults\":{\"arrowhead\":0,\"arrowwidth\":1},\"autotypenumbers\":\"strict\",\"coloraxis\":{\"colorbar\":{\"outlinewidth\":1,\"tickcolor\":\"rgb(36,36,36)\",\"ticks\":\"outside\"}},\"colorscale\":{\"diverging\":[[0.0,\"rgb(103,0,31)\"],[0.1,\"rgb(178,24,43)\"],[0.2,\"rgb(214,96,77)\"],[0.3,\"rgb(244,165,130)\"],[0.4,\"rgb(253,219,199)\"],[0.5,\"rgb(247,247,247)\"],[0.6,\"rgb(209,229,240)\"],[0.7,\"rgb(146,197,222)\"],[0.8,\"rgb(67,147,195)\"],[0.9,\"rgb(33,102,172)\"],[1.0,\"rgb(5,48,97)\"]],\"sequential\":[[0.0,\"#440154\"],[0.1111111111111111,\"#482878\"],[0.2222222222222222,\"#3e4989\"],[0.3333333333333333,\"#31688e\"],[0.4444444444444444,\"#26828e\"],[0.5555555555555556,\"#1f9e89\"],[0.6666666666666666,\"#35b779\"],[0.7777777777777778,\"#6ece58\"],[0.8888888888888888,\"#b5de2b\"],[1.0,\"#fde725\"]],\"sequentialminus\":[[0.0,\"#440154\"],[0.1111111111111111,\"#482878\"],[0.2222222222222222,\"#3e4989\"],[0.3333333333333333,\"#31688e\"],[0.4444444444444444,\"#26828e\"],[0.5555555555555556,\"#1f9e89\"],[0.6666666666666666,\"#35b779\"],[0.7777777777777778,\"#6ece58\"],[0.8888888888888888,\"#b5de2b\"],[1.0,\"#fde725\"]]},\"colorway\":[\"#1F77B4\",\"#FF7F0E\",\"#2CA02C\",\"#D62728\",\"#9467BD\",\"#8C564B\",\"#E377C2\",\"#7F7F7F\",\"#BCBD22\",\"#17BECF\"],\"font\":{\"color\":\"rgb(36,36,36)\"},\"geo\":{\"bgcolor\":\"white\",\"lakecolor\":\"white\",\"landcolor\":\"white\",\"showlakes\":true,\"showland\":true,\"subunitcolor\":\"white\"},\"hoverlabel\":{\"align\":\"left\"},\"hovermode\":\"closest\",\"mapbox\":{\"style\":\"light\"},\"paper_bgcolor\":\"white\",\"plot_bgcolor\":\"white\",\"polar\":{\"angularaxis\":{\"gridcolor\":\"rgb(232,232,232)\",\"linecolor\":\"rgb(36,36,36)\",\"showgrid\":false,\"showline\":true,\"ticks\":\"outside\"},\"bgcolor\":\"white\",\"radialaxis\":{\"gridcolor\":\"rgb(232,232,232)\",\"linecolor\":\"rgb(36,36,36)\",\"showgrid\":false,\"showline\":true,\"ticks\":\"outside\"}},\"scene\":{\"xaxis\":{\"backgroundcolor\":\"white\",\"gridcolor\":\"rgb(232,232,232)\",\"gridwidth\":2,\"linecolor\":\"rgb(36,36,36)\",\"showbackground\":true,\"showgrid\":false,\"showline\":true,\"ticks\":\"outside\",\"zeroline\":false,\"zerolinecolor\":\"rgb(36,36,36)\"},\"yaxis\":{\"backgroundcolor\":\"white\",\"gridcolor\":\"rgb(232,232,232)\",\"gridwidth\":2,\"linecolor\":\"rgb(36,36,36)\",\"showbackground\":true,\"showgrid\":false,\"showline\":true,\"ticks\":\"outside\",\"zeroline\":false,\"zerolinecolor\":\"rgb(36,36,36)\"},\"zaxis\":{\"backgroundcolor\":\"white\",\"gridcolor\":\"rgb(232,232,232)\",\"gridwidth\":2,\"linecolor\":\"rgb(36,36,36)\",\"showbackground\":true,\"showgrid\":false,\"showline\":true,\"ticks\":\"outside\",\"zeroline\":false,\"zerolinecolor\":\"rgb(36,36,36)\"}},\"shapedefaults\":{\"fillcolor\":\"black\",\"line\":{\"width\":0},\"opacity\":0.3},\"ternary\":{\"aaxis\":{\"gridcolor\":\"rgb(232,232,232)\",\"linecolor\":\"rgb(36,36,36)\",\"showgrid\":false,\"showline\":true,\"ticks\":\"outside\"},\"baxis\":{\"gridcolor\":\"rgb(232,232,232)\",\"linecolor\":\"rgb(36,36,36)\",\"showgrid\":false,\"showline\":true,\"ticks\":\"outside\"},\"bgcolor\":\"white\",\"caxis\":{\"gridcolor\":\"rgb(232,232,232)\",\"linecolor\":\"rgb(36,36,36)\",\"showgrid\":false,\"showline\":true,\"ticks\":\"outside\"}},\"title\":{\"x\":0.05},\"xaxis\":{\"automargin\":true,\"gridcolor\":\"rgb(232,232,232)\",\"linecolor\":\"rgb(36,36,36)\",\"showgrid\":false,\"showline\":true,\"ticks\":\"outside\",\"title\":{\"standoff\":15},\"zeroline\":false,\"zerolinecolor\":\"rgb(36,36,36)\"},\"yaxis\":{\"automargin\":true,\"gridcolor\":\"rgb(232,232,232)\",\"linecolor\":\"rgb(36,36,36)\",\"showgrid\":false,\"showline\":true,\"ticks\":\"outside\",\"title\":{\"standoff\":15},\"zeroline\":false,\"zerolinecolor\":\"rgb(36,36,36)\"}}},\"yaxis\":{\"title\":{\"text\":\"Test Set Accuracy\"},\"range\":[0,1],\"tickvals\":[0.0,0.1,0.2,0.30000000000000004,0.4,0.5,0.6000000000000001,0.7000000000000001,0.8,0.9,1.0]},\"xaxis\":{\"title\":{\"text\":\"Subjects\"},\"tickangle\":-45},\"legend\":{\"x\":1,\"y\":1},\"title\":{\"text\":\"Classifier Performance for Actual Movement Condition\"},\"barmode\":\"group\",\"bargap\":0.15,\"bargroupgap\":0.1},                        {\"responsive\": true}                    ).then(function(){\n",
       "                            \n",
       "var gd = document.getElementById('fc206b0e-7f38-402d-b639-4dedac61c67d');\n",
       "var x = new MutationObserver(function (mutations, observer) {{\n",
       "        var display = window.getComputedStyle(gd).display;\n",
       "        if (!display || display === 'none') {{\n",
       "            console.log([gd, 'removed!']);\n",
       "            Plotly.purge(gd);\n",
       "            observer.disconnect();\n",
       "        }}\n",
       "}});\n",
       "\n",
       "// Listen for the removal of the full notebook cells\n",
       "var notebookContainer = gd.closest('#notebook-container');\n",
       "if (notebookContainer) {{\n",
       "    x.observe(notebookContainer, {childList: true});\n",
       "}}\n",
       "\n",
       "// Listen for the clearing of the current output cell\n",
       "var outputEl = gd.closest('.output');\n",
       "if (outputEl) {{\n",
       "    x.observe(outputEl, {childList: true});\n",
       "}}\n",
       "\n",
       "                        })                };                });            </script>        </div>"
      ]
     },
     "metadata": {},
     "output_type": "display_data"
    },
    {
     "name": "stderr",
     "output_type": "stream",
     "text": [
      "gio: file:///home/jabdo/abdo_project/neuromatch_project/Raclette-Group-2-ECoG-Motor-Imagery/code/Actual_Movement_Condition.html: Failed to find default application for content type ‘text/html’\n"
     ]
    },
    {
     "data": {
      "application/vnd.plotly.v1+json": {
       "config": {
        "plotlyServerURL": "https://plot.ly"
       },
       "data": [
        {
         "marker": {
          "color": "lightblue"
         },
         "name": "SVM original",
         "type": "bar",
         "width": 0.25,
         "x": [
          "Subject_1",
          "Subject_2",
          "Subject_3",
          "Subject_4",
          "Subject_5",
          "Subject_6",
          "Subject_7"
         ],
         "y": [
          0.4166666666666667,
          0.4166666666666667,
          0.5,
          0.75,
          0.6666666666666666,
          0.5,
          0.5833333333333334
         ]
        },
        {
         "marker": {
          "color": "lightpink"
         },
         "name": "SVM RFE",
         "type": "bar",
         "width": 0.25,
         "x": [
          "Subject_1",
          "Subject_2",
          "Subject_3",
          "Subject_4",
          "Subject_5",
          "Subject_6",
          "Subject_7"
         ],
         "y": [
          0.6666666666666666,
          0.5,
          0.75,
          0.3333333333333333,
          0.5,
          0.5833333333333334,
          0.5
         ]
        },
        {
         "marker": {
          "color": "mediumpurple"
         },
         "name": "Random Forest",
         "type": "bar",
         "width": 0.25,
         "x": [
          "Subject_1",
          "Subject_2",
          "Subject_3",
          "Subject_4",
          "Subject_5",
          "Subject_6",
          "Subject_7"
         ],
         "y": [
          0.4166666666666667,
          0.6666666666666666,
          0.6666666666666666,
          0.5833333333333334,
          0.5,
          0.5833333333333334,
          0.5833333333333334
         ]
        }
       ],
       "layout": {
        "autosize": true,
        "bargap": 0.15,
        "bargroupgap": 0.1,
        "barmode": "group",
        "legend": {
         "x": 1,
         "y": 1
        },
        "template": {
         "data": {
          "bar": [
           {
            "error_x": {
             "color": "rgb(36,36,36)"
            },
            "error_y": {
             "color": "rgb(36,36,36)"
            },
            "marker": {
             "line": {
              "color": "white",
              "width": 0.5
             },
             "pattern": {
              "fillmode": "overlay",
              "size": 10,
              "solidity": 0.2
             }
            },
            "type": "bar"
           }
          ],
          "barpolar": [
           {
            "marker": {
             "line": {
              "color": "white",
              "width": 0.5
             },
             "pattern": {
              "fillmode": "overlay",
              "size": 10,
              "solidity": 0.2
             }
            },
            "type": "barpolar"
           }
          ],
          "carpet": [
           {
            "aaxis": {
             "endlinecolor": "rgb(36,36,36)",
             "gridcolor": "white",
             "linecolor": "white",
             "minorgridcolor": "white",
             "startlinecolor": "rgb(36,36,36)"
            },
            "baxis": {
             "endlinecolor": "rgb(36,36,36)",
             "gridcolor": "white",
             "linecolor": "white",
             "minorgridcolor": "white",
             "startlinecolor": "rgb(36,36,36)"
            },
            "type": "carpet"
           }
          ],
          "choropleth": [
           {
            "colorbar": {
             "outlinewidth": 1,
             "tickcolor": "rgb(36,36,36)",
             "ticks": "outside"
            },
            "type": "choropleth"
           }
          ],
          "contour": [
           {
            "colorbar": {
             "outlinewidth": 1,
             "tickcolor": "rgb(36,36,36)",
             "ticks": "outside"
            },
            "colorscale": [
             [
              0,
              "#440154"
             ],
             [
              0.1111111111111111,
              "#482878"
             ],
             [
              0.2222222222222222,
              "#3e4989"
             ],
             [
              0.3333333333333333,
              "#31688e"
             ],
             [
              0.4444444444444444,
              "#26828e"
             ],
             [
              0.5555555555555556,
              "#1f9e89"
             ],
             [
              0.6666666666666666,
              "#35b779"
             ],
             [
              0.7777777777777778,
              "#6ece58"
             ],
             [
              0.8888888888888888,
              "#b5de2b"
             ],
             [
              1,
              "#fde725"
             ]
            ],
            "type": "contour"
           }
          ],
          "contourcarpet": [
           {
            "colorbar": {
             "outlinewidth": 1,
             "tickcolor": "rgb(36,36,36)",
             "ticks": "outside"
            },
            "type": "contourcarpet"
           }
          ],
          "heatmap": [
           {
            "colorbar": {
             "outlinewidth": 1,
             "tickcolor": "rgb(36,36,36)",
             "ticks": "outside"
            },
            "colorscale": [
             [
              0,
              "#440154"
             ],
             [
              0.1111111111111111,
              "#482878"
             ],
             [
              0.2222222222222222,
              "#3e4989"
             ],
             [
              0.3333333333333333,
              "#31688e"
             ],
             [
              0.4444444444444444,
              "#26828e"
             ],
             [
              0.5555555555555556,
              "#1f9e89"
             ],
             [
              0.6666666666666666,
              "#35b779"
             ],
             [
              0.7777777777777778,
              "#6ece58"
             ],
             [
              0.8888888888888888,
              "#b5de2b"
             ],
             [
              1,
              "#fde725"
             ]
            ],
            "type": "heatmap"
           }
          ],
          "heatmapgl": [
           {
            "colorbar": {
             "outlinewidth": 1,
             "tickcolor": "rgb(36,36,36)",
             "ticks": "outside"
            },
            "colorscale": [
             [
              0,
              "#440154"
             ],
             [
              0.1111111111111111,
              "#482878"
             ],
             [
              0.2222222222222222,
              "#3e4989"
             ],
             [
              0.3333333333333333,
              "#31688e"
             ],
             [
              0.4444444444444444,
              "#26828e"
             ],
             [
              0.5555555555555556,
              "#1f9e89"
             ],
             [
              0.6666666666666666,
              "#35b779"
             ],
             [
              0.7777777777777778,
              "#6ece58"
             ],
             [
              0.8888888888888888,
              "#b5de2b"
             ],
             [
              1,
              "#fde725"
             ]
            ],
            "type": "heatmapgl"
           }
          ],
          "histogram": [
           {
            "marker": {
             "line": {
              "color": "white",
              "width": 0.6
             }
            },
            "type": "histogram"
           }
          ],
          "histogram2d": [
           {
            "colorbar": {
             "outlinewidth": 1,
             "tickcolor": "rgb(36,36,36)",
             "ticks": "outside"
            },
            "colorscale": [
             [
              0,
              "#440154"
             ],
             [
              0.1111111111111111,
              "#482878"
             ],
             [
              0.2222222222222222,
              "#3e4989"
             ],
             [
              0.3333333333333333,
              "#31688e"
             ],
             [
              0.4444444444444444,
              "#26828e"
             ],
             [
              0.5555555555555556,
              "#1f9e89"
             ],
             [
              0.6666666666666666,
              "#35b779"
             ],
             [
              0.7777777777777778,
              "#6ece58"
             ],
             [
              0.8888888888888888,
              "#b5de2b"
             ],
             [
              1,
              "#fde725"
             ]
            ],
            "type": "histogram2d"
           }
          ],
          "histogram2dcontour": [
           {
            "colorbar": {
             "outlinewidth": 1,
             "tickcolor": "rgb(36,36,36)",
             "ticks": "outside"
            },
            "colorscale": [
             [
              0,
              "#440154"
             ],
             [
              0.1111111111111111,
              "#482878"
             ],
             [
              0.2222222222222222,
              "#3e4989"
             ],
             [
              0.3333333333333333,
              "#31688e"
             ],
             [
              0.4444444444444444,
              "#26828e"
             ],
             [
              0.5555555555555556,
              "#1f9e89"
             ],
             [
              0.6666666666666666,
              "#35b779"
             ],
             [
              0.7777777777777778,
              "#6ece58"
             ],
             [
              0.8888888888888888,
              "#b5de2b"
             ],
             [
              1,
              "#fde725"
             ]
            ],
            "type": "histogram2dcontour"
           }
          ],
          "mesh3d": [
           {
            "colorbar": {
             "outlinewidth": 1,
             "tickcolor": "rgb(36,36,36)",
             "ticks": "outside"
            },
            "type": "mesh3d"
           }
          ],
          "parcoords": [
           {
            "line": {
             "colorbar": {
              "outlinewidth": 1,
              "tickcolor": "rgb(36,36,36)",
              "ticks": "outside"
             }
            },
            "type": "parcoords"
           }
          ],
          "pie": [
           {
            "automargin": true,
            "type": "pie"
           }
          ],
          "scatter": [
           {
            "fillpattern": {
             "fillmode": "overlay",
             "size": 10,
             "solidity": 0.2
            },
            "type": "scatter"
           }
          ],
          "scatter3d": [
           {
            "line": {
             "colorbar": {
              "outlinewidth": 1,
              "tickcolor": "rgb(36,36,36)",
              "ticks": "outside"
             }
            },
            "marker": {
             "colorbar": {
              "outlinewidth": 1,
              "tickcolor": "rgb(36,36,36)",
              "ticks": "outside"
             }
            },
            "type": "scatter3d"
           }
          ],
          "scattercarpet": [
           {
            "marker": {
             "colorbar": {
              "outlinewidth": 1,
              "tickcolor": "rgb(36,36,36)",
              "ticks": "outside"
             }
            },
            "type": "scattercarpet"
           }
          ],
          "scattergeo": [
           {
            "marker": {
             "colorbar": {
              "outlinewidth": 1,
              "tickcolor": "rgb(36,36,36)",
              "ticks": "outside"
             }
            },
            "type": "scattergeo"
           }
          ],
          "scattergl": [
           {
            "marker": {
             "colorbar": {
              "outlinewidth": 1,
              "tickcolor": "rgb(36,36,36)",
              "ticks": "outside"
             }
            },
            "type": "scattergl"
           }
          ],
          "scattermapbox": [
           {
            "marker": {
             "colorbar": {
              "outlinewidth": 1,
              "tickcolor": "rgb(36,36,36)",
              "ticks": "outside"
             }
            },
            "type": "scattermapbox"
           }
          ],
          "scatterpolar": [
           {
            "marker": {
             "colorbar": {
              "outlinewidth": 1,
              "tickcolor": "rgb(36,36,36)",
              "ticks": "outside"
             }
            },
            "type": "scatterpolar"
           }
          ],
          "scatterpolargl": [
           {
            "marker": {
             "colorbar": {
              "outlinewidth": 1,
              "tickcolor": "rgb(36,36,36)",
              "ticks": "outside"
             }
            },
            "type": "scatterpolargl"
           }
          ],
          "scatterternary": [
           {
            "marker": {
             "colorbar": {
              "outlinewidth": 1,
              "tickcolor": "rgb(36,36,36)",
              "ticks": "outside"
             }
            },
            "type": "scatterternary"
           }
          ],
          "surface": [
           {
            "colorbar": {
             "outlinewidth": 1,
             "tickcolor": "rgb(36,36,36)",
             "ticks": "outside"
            },
            "colorscale": [
             [
              0,
              "#440154"
             ],
             [
              0.1111111111111111,
              "#482878"
             ],
             [
              0.2222222222222222,
              "#3e4989"
             ],
             [
              0.3333333333333333,
              "#31688e"
             ],
             [
              0.4444444444444444,
              "#26828e"
             ],
             [
              0.5555555555555556,
              "#1f9e89"
             ],
             [
              0.6666666666666666,
              "#35b779"
             ],
             [
              0.7777777777777778,
              "#6ece58"
             ],
             [
              0.8888888888888888,
              "#b5de2b"
             ],
             [
              1,
              "#fde725"
             ]
            ],
            "type": "surface"
           }
          ],
          "table": [
           {
            "cells": {
             "fill": {
              "color": "rgb(237,237,237)"
             },
             "line": {
              "color": "white"
             }
            },
            "header": {
             "fill": {
              "color": "rgb(217,217,217)"
             },
             "line": {
              "color": "white"
             }
            },
            "type": "table"
           }
          ]
         },
         "layout": {
          "annotationdefaults": {
           "arrowhead": 0,
           "arrowwidth": 1
          },
          "autotypenumbers": "strict",
          "coloraxis": {
           "colorbar": {
            "outlinewidth": 1,
            "tickcolor": "rgb(36,36,36)",
            "ticks": "outside"
           }
          },
          "colorscale": {
           "diverging": [
            [
             0,
             "rgb(103,0,31)"
            ],
            [
             0.1,
             "rgb(178,24,43)"
            ],
            [
             0.2,
             "rgb(214,96,77)"
            ],
            [
             0.3,
             "rgb(244,165,130)"
            ],
            [
             0.4,
             "rgb(253,219,199)"
            ],
            [
             0.5,
             "rgb(247,247,247)"
            ],
            [
             0.6,
             "rgb(209,229,240)"
            ],
            [
             0.7,
             "rgb(146,197,222)"
            ],
            [
             0.8,
             "rgb(67,147,195)"
            ],
            [
             0.9,
             "rgb(33,102,172)"
            ],
            [
             1,
             "rgb(5,48,97)"
            ]
           ],
           "sequential": [
            [
             0,
             "#440154"
            ],
            [
             0.1111111111111111,
             "#482878"
            ],
            [
             0.2222222222222222,
             "#3e4989"
            ],
            [
             0.3333333333333333,
             "#31688e"
            ],
            [
             0.4444444444444444,
             "#26828e"
            ],
            [
             0.5555555555555556,
             "#1f9e89"
            ],
            [
             0.6666666666666666,
             "#35b779"
            ],
            [
             0.7777777777777778,
             "#6ece58"
            ],
            [
             0.8888888888888888,
             "#b5de2b"
            ],
            [
             1,
             "#fde725"
            ]
           ],
           "sequentialminus": [
            [
             0,
             "#440154"
            ],
            [
             0.1111111111111111,
             "#482878"
            ],
            [
             0.2222222222222222,
             "#3e4989"
            ],
            [
             0.3333333333333333,
             "#31688e"
            ],
            [
             0.4444444444444444,
             "#26828e"
            ],
            [
             0.5555555555555556,
             "#1f9e89"
            ],
            [
             0.6666666666666666,
             "#35b779"
            ],
            [
             0.7777777777777778,
             "#6ece58"
            ],
            [
             0.8888888888888888,
             "#b5de2b"
            ],
            [
             1,
             "#fde725"
            ]
           ]
          },
          "colorway": [
           "#1F77B4",
           "#FF7F0E",
           "#2CA02C",
           "#D62728",
           "#9467BD",
           "#8C564B",
           "#E377C2",
           "#7F7F7F",
           "#BCBD22",
           "#17BECF"
          ],
          "font": {
           "color": "rgb(36,36,36)"
          },
          "geo": {
           "bgcolor": "white",
           "lakecolor": "white",
           "landcolor": "white",
           "showlakes": true,
           "showland": true,
           "subunitcolor": "white"
          },
          "hoverlabel": {
           "align": "left"
          },
          "hovermode": "closest",
          "mapbox": {
           "style": "light"
          },
          "paper_bgcolor": "white",
          "plot_bgcolor": "white",
          "polar": {
           "angularaxis": {
            "gridcolor": "rgb(232,232,232)",
            "linecolor": "rgb(36,36,36)",
            "showgrid": false,
            "showline": true,
            "ticks": "outside"
           },
           "bgcolor": "white",
           "radialaxis": {
            "gridcolor": "rgb(232,232,232)",
            "linecolor": "rgb(36,36,36)",
            "showgrid": false,
            "showline": true,
            "ticks": "outside"
           }
          },
          "scene": {
           "xaxis": {
            "backgroundcolor": "white",
            "gridcolor": "rgb(232,232,232)",
            "gridwidth": 2,
            "linecolor": "rgb(36,36,36)",
            "showbackground": true,
            "showgrid": false,
            "showline": true,
            "ticks": "outside",
            "zeroline": false,
            "zerolinecolor": "rgb(36,36,36)"
           },
           "yaxis": {
            "backgroundcolor": "white",
            "gridcolor": "rgb(232,232,232)",
            "gridwidth": 2,
            "linecolor": "rgb(36,36,36)",
            "showbackground": true,
            "showgrid": false,
            "showline": true,
            "ticks": "outside",
            "zeroline": false,
            "zerolinecolor": "rgb(36,36,36)"
           },
           "zaxis": {
            "backgroundcolor": "white",
            "gridcolor": "rgb(232,232,232)",
            "gridwidth": 2,
            "linecolor": "rgb(36,36,36)",
            "showbackground": true,
            "showgrid": false,
            "showline": true,
            "ticks": "outside",
            "zeroline": false,
            "zerolinecolor": "rgb(36,36,36)"
           }
          },
          "shapedefaults": {
           "fillcolor": "black",
           "line": {
            "width": 0
           },
           "opacity": 0.3
          },
          "ternary": {
           "aaxis": {
            "gridcolor": "rgb(232,232,232)",
            "linecolor": "rgb(36,36,36)",
            "showgrid": false,
            "showline": true,
            "ticks": "outside"
           },
           "baxis": {
            "gridcolor": "rgb(232,232,232)",
            "linecolor": "rgb(36,36,36)",
            "showgrid": false,
            "showline": true,
            "ticks": "outside"
           },
           "bgcolor": "white",
           "caxis": {
            "gridcolor": "rgb(232,232,232)",
            "linecolor": "rgb(36,36,36)",
            "showgrid": false,
            "showline": true,
            "ticks": "outside"
           }
          },
          "title": {
           "x": 0.05
          },
          "xaxis": {
           "automargin": true,
           "gridcolor": "rgb(232,232,232)",
           "linecolor": "rgb(36,36,36)",
           "showgrid": false,
           "showline": true,
           "ticks": "outside",
           "title": {
            "standoff": 15
           },
           "zeroline": false,
           "zerolinecolor": "rgb(36,36,36)"
          },
          "yaxis": {
           "automargin": true,
           "gridcolor": "rgb(232,232,232)",
           "linecolor": "rgb(36,36,36)",
           "showgrid": false,
           "showline": true,
           "ticks": "outside",
           "title": {
            "standoff": 15
           },
           "zeroline": false,
           "zerolinecolor": "rgb(36,36,36)"
          }
         }
        },
        "title": {
         "text": "Classifier Performance for Imagined Movement Condition"
        },
        "xaxis": {
         "autorange": true,
         "range": [
          -0.5,
          6.5
         ],
         "tickangle": -45,
         "title": {
          "text": "Subjects"
         },
         "type": "category"
        },
        "yaxis": {
         "range": [
          0,
          1
         ],
         "tickvals": [
          0,
          0.1,
          0.2,
          0.30000000000000004,
          0.4,
          0.5,
          0.6000000000000001,
          0.7000000000000001,
          0.8,
          0.9,
          1
         ],
         "title": {
          "text": "Test Set Accuracy"
         },
         "type": "linear"
        }
       }
      },
      "image/png": "[encoded data removed]",
      "text/html": [
       "<div>                            <div id=\"a831dbbe-793f-420b-9196-81adc687330c\" class=\"plotly-graph-div\" style=\"height:525px; width:100%;\"></div>            <script type=\"text/javascript\">                require([\"plotly\"], function(Plotly) {                    window.PLOTLYENV=window.PLOTLYENV || {};                                    if (document.getElementById(\"a831dbbe-793f-420b-9196-81adc687330c\")) {                    Plotly.newPlot(                        \"a831dbbe-793f-420b-9196-81adc687330c\",                        [{\"marker\":{\"color\":\"lightblue\"},\"name\":\"SVM original\",\"width\":0.25,\"x\":[\"Subject_1\",\"Subject_2\",\"Subject_3\",\"Subject_4\",\"Subject_5\",\"Subject_6\",\"Subject_7\"],\"y\":[0.4166666666666667,0.4166666666666667,0.5,0.75,0.6666666666666666,0.5,0.5833333333333334],\"type\":\"bar\"},{\"marker\":{\"color\":\"lightpink\"},\"name\":\"SVM RFE\",\"width\":0.25,\"x\":[\"Subject_1\",\"Subject_2\",\"Subject_3\",\"Subject_4\",\"Subject_5\",\"Subject_6\",\"Subject_7\"],\"y\":[0.6666666666666666,0.5,0.75,0.3333333333333333,0.5,0.5833333333333334,0.5],\"type\":\"bar\"},{\"marker\":{\"color\":\"mediumpurple\"},\"name\":\"Random Forest\",\"width\":0.25,\"x\":[\"Subject_1\",\"Subject_2\",\"Subject_3\",\"Subject_4\",\"Subject_5\",\"Subject_6\",\"Subject_7\"],\"y\":[0.4166666666666667,0.6666666666666666,0.6666666666666666,0.5833333333333334,0.5,0.5833333333333334,0.5833333333333334],\"type\":\"bar\"}],                        {\"template\":{\"data\":{\"barpolar\":[{\"marker\":{\"line\":{\"color\":\"white\",\"width\":0.5},\"pattern\":{\"fillmode\":\"overlay\",\"size\":10,\"solidity\":0.2}},\"type\":\"barpolar\"}],\"bar\":[{\"error_x\":{\"color\":\"rgb(36,36,36)\"},\"error_y\":{\"color\":\"rgb(36,36,36)\"},\"marker\":{\"line\":{\"color\":\"white\",\"width\":0.5},\"pattern\":{\"fillmode\":\"overlay\",\"size\":10,\"solidity\":0.2}},\"type\":\"bar\"}],\"carpet\":[{\"aaxis\":{\"endlinecolor\":\"rgb(36,36,36)\",\"gridcolor\":\"white\",\"linecolor\":\"white\",\"minorgridcolor\":\"white\",\"startlinecolor\":\"rgb(36,36,36)\"},\"baxis\":{\"endlinecolor\":\"rgb(36,36,36)\",\"gridcolor\":\"white\",\"linecolor\":\"white\",\"minorgridcolor\":\"white\",\"startlinecolor\":\"rgb(36,36,36)\"},\"type\":\"carpet\"}],\"choropleth\":[{\"colorbar\":{\"outlinewidth\":1,\"tickcolor\":\"rgb(36,36,36)\",\"ticks\":\"outside\"},\"type\":\"choropleth\"}],\"contourcarpet\":[{\"colorbar\":{\"outlinewidth\":1,\"tickcolor\":\"rgb(36,36,36)\",\"ticks\":\"outside\"},\"type\":\"contourcarpet\"}],\"contour\":[{\"colorbar\":{\"outlinewidth\":1,\"tickcolor\":\"rgb(36,36,36)\",\"ticks\":\"outside\"},\"colorscale\":[[0.0,\"#440154\"],[0.1111111111111111,\"#482878\"],[0.2222222222222222,\"#3e4989\"],[0.3333333333333333,\"#31688e\"],[0.4444444444444444,\"#26828e\"],[0.5555555555555556,\"#1f9e89\"],[0.6666666666666666,\"#35b779\"],[0.7777777777777778,\"#6ece58\"],[0.8888888888888888,\"#b5de2b\"],[1.0,\"#fde725\"]],\"type\":\"contour\"}],\"heatmapgl\":[{\"colorbar\":{\"outlinewidth\":1,\"tickcolor\":\"rgb(36,36,36)\",\"ticks\":\"outside\"},\"colorscale\":[[0.0,\"#440154\"],[0.1111111111111111,\"#482878\"],[0.2222222222222222,\"#3e4989\"],[0.3333333333333333,\"#31688e\"],[0.4444444444444444,\"#26828e\"],[0.5555555555555556,\"#1f9e89\"],[0.6666666666666666,\"#35b779\"],[0.7777777777777778,\"#6ece58\"],[0.8888888888888888,\"#b5de2b\"],[1.0,\"#fde725\"]],\"type\":\"heatmapgl\"}],\"heatmap\":[{\"colorbar\":{\"outlinewidth\":1,\"tickcolor\":\"rgb(36,36,36)\",\"ticks\":\"outside\"},\"colorscale\":[[0.0,\"#440154\"],[0.1111111111111111,\"#482878\"],[0.2222222222222222,\"#3e4989\"],[0.3333333333333333,\"#31688e\"],[0.4444444444444444,\"#26828e\"],[0.5555555555555556,\"#1f9e89\"],[0.6666666666666666,\"#35b779\"],[0.7777777777777778,\"#6ece58\"],[0.8888888888888888,\"#b5de2b\"],[1.0,\"#fde725\"]],\"type\":\"heatmap\"}],\"histogram2dcontour\":[{\"colorbar\":{\"outlinewidth\":1,\"tickcolor\":\"rgb(36,36,36)\",\"ticks\":\"outside\"},\"colorscale\":[[0.0,\"#440154\"],[0.1111111111111111,\"#482878\"],[0.2222222222222222,\"#3e4989\"],[0.3333333333333333,\"#31688e\"],[0.4444444444444444,\"#26828e\"],[0.5555555555555556,\"#1f9e89\"],[0.6666666666666666,\"#35b779\"],[0.7777777777777778,\"#6ece58\"],[0.8888888888888888,\"#b5de2b\"],[1.0,\"#fde725\"]],\"type\":\"histogram2dcontour\"}],\"histogram2d\":[{\"colorbar\":{\"outlinewidth\":1,\"tickcolor\":\"rgb(36,36,36)\",\"ticks\":\"outside\"},\"colorscale\":[[0.0,\"#440154\"],[0.1111111111111111,\"#482878\"],[0.2222222222222222,\"#3e4989\"],[0.3333333333333333,\"#31688e\"],[0.4444444444444444,\"#26828e\"],[0.5555555555555556,\"#1f9e89\"],[0.6666666666666666,\"#35b779\"],[0.7777777777777778,\"#6ece58\"],[0.8888888888888888,\"#b5de2b\"],[1.0,\"#fde725\"]],\"type\":\"histogram2d\"}],\"histogram\":[{\"marker\":{\"line\":{\"color\":\"white\",\"width\":0.6}},\"type\":\"histogram\"}],\"mesh3d\":[{\"colorbar\":{\"outlinewidth\":1,\"tickcolor\":\"rgb(36,36,36)\",\"ticks\":\"outside\"},\"type\":\"mesh3d\"}],\"parcoords\":[{\"line\":{\"colorbar\":{\"outlinewidth\":1,\"tickcolor\":\"rgb(36,36,36)\",\"ticks\":\"outside\"}},\"type\":\"parcoords\"}],\"pie\":[{\"automargin\":true,\"type\":\"pie\"}],\"scatter3d\":[{\"line\":{\"colorbar\":{\"outlinewidth\":1,\"tickcolor\":\"rgb(36,36,36)\",\"ticks\":\"outside\"}},\"marker\":{\"colorbar\":{\"outlinewidth\":1,\"tickcolor\":\"rgb(36,36,36)\",\"ticks\":\"outside\"}},\"type\":\"scatter3d\"}],\"scattercarpet\":[{\"marker\":{\"colorbar\":{\"outlinewidth\":1,\"tickcolor\":\"rgb(36,36,36)\",\"ticks\":\"outside\"}},\"type\":\"scattercarpet\"}],\"scattergeo\":[{\"marker\":{\"colorbar\":{\"outlinewidth\":1,\"tickcolor\":\"rgb(36,36,36)\",\"ticks\":\"outside\"}},\"type\":\"scattergeo\"}],\"scattergl\":[{\"marker\":{\"colorbar\":{\"outlinewidth\":1,\"tickcolor\":\"rgb(36,36,36)\",\"ticks\":\"outside\"}},\"type\":\"scattergl\"}],\"scattermapbox\":[{\"marker\":{\"colorbar\":{\"outlinewidth\":1,\"tickcolor\":\"rgb(36,36,36)\",\"ticks\":\"outside\"}},\"type\":\"scattermapbox\"}],\"scatterpolargl\":[{\"marker\":{\"colorbar\":{\"outlinewidth\":1,\"tickcolor\":\"rgb(36,36,36)\",\"ticks\":\"outside\"}},\"type\":\"scatterpolargl\"}],\"scatterpolar\":[{\"marker\":{\"colorbar\":{\"outlinewidth\":1,\"tickcolor\":\"rgb(36,36,36)\",\"ticks\":\"outside\"}},\"type\":\"scatterpolar\"}],\"scatter\":[{\"fillpattern\":{\"fillmode\":\"overlay\",\"size\":10,\"solidity\":0.2},\"type\":\"scatter\"}],\"scatterternary\":[{\"marker\":{\"colorbar\":{\"outlinewidth\":1,\"tickcolor\":\"rgb(36,36,36)\",\"ticks\":\"outside\"}},\"type\":\"scatterternary\"}],\"surface\":[{\"colorbar\":{\"outlinewidth\":1,\"tickcolor\":\"rgb(36,36,36)\",\"ticks\":\"outside\"},\"colorscale\":[[0.0,\"#440154\"],[0.1111111111111111,\"#482878\"],[0.2222222222222222,\"#3e4989\"],[0.3333333333333333,\"#31688e\"],[0.4444444444444444,\"#26828e\"],[0.5555555555555556,\"#1f9e89\"],[0.6666666666666666,\"#35b779\"],[0.7777777777777778,\"#6ece58\"],[0.8888888888888888,\"#b5de2b\"],[1.0,\"#fde725\"]],\"type\":\"surface\"}],\"table\":[{\"cells\":{\"fill\":{\"color\":\"rgb(237,237,237)\"},\"line\":{\"color\":\"white\"}},\"header\":{\"fill\":{\"color\":\"rgb(217,217,217)\"},\"line\":{\"color\":\"white\"}},\"type\":\"table\"}]},\"layout\":{\"annotationdefaults\":{\"arrowhead\":0,\"arrowwidth\":1},\"autotypenumbers\":\"strict\",\"coloraxis\":{\"colorbar\":{\"outlinewidth\":1,\"tickcolor\":\"rgb(36,36,36)\",\"ticks\":\"outside\"}},\"colorscale\":{\"diverging\":[[0.0,\"rgb(103,0,31)\"],[0.1,\"rgb(178,24,43)\"],[0.2,\"rgb(214,96,77)\"],[0.3,\"rgb(244,165,130)\"],[0.4,\"rgb(253,219,199)\"],[0.5,\"rgb(247,247,247)\"],[0.6,\"rgb(209,229,240)\"],[0.7,\"rgb(146,197,222)\"],[0.8,\"rgb(67,147,195)\"],[0.9,\"rgb(33,102,172)\"],[1.0,\"rgb(5,48,97)\"]],\"sequential\":[[0.0,\"#440154\"],[0.1111111111111111,\"#482878\"],[0.2222222222222222,\"#3e4989\"],[0.3333333333333333,\"#31688e\"],[0.4444444444444444,\"#26828e\"],[0.5555555555555556,\"#1f9e89\"],[0.6666666666666666,\"#35b779\"],[0.7777777777777778,\"#6ece58\"],[0.8888888888888888,\"#b5de2b\"],[1.0,\"#fde725\"]],\"sequentialminus\":[[0.0,\"#440154\"],[0.1111111111111111,\"#482878\"],[0.2222222222222222,\"#3e4989\"],[0.3333333333333333,\"#31688e\"],[0.4444444444444444,\"#26828e\"],[0.5555555555555556,\"#1f9e89\"],[0.6666666666666666,\"#35b779\"],[0.7777777777777778,\"#6ece58\"],[0.8888888888888888,\"#b5de2b\"],[1.0,\"#fde725\"]]},\"colorway\":[\"#1F77B4\",\"#FF7F0E\",\"#2CA02C\",\"#D62728\",\"#9467BD\",\"#8C564B\",\"#E377C2\",\"#7F7F7F\",\"#BCBD22\",\"#17BECF\"],\"font\":{\"color\":\"rgb(36,36,36)\"},\"geo\":{\"bgcolor\":\"white\",\"lakecolor\":\"white\",\"landcolor\":\"white\",\"showlakes\":true,\"showland\":true,\"subunitcolor\":\"white\"},\"hoverlabel\":{\"align\":\"left\"},\"hovermode\":\"closest\",\"mapbox\":{\"style\":\"light\"},\"paper_bgcolor\":\"white\",\"plot_bgcolor\":\"white\",\"polar\":{\"angularaxis\":{\"gridcolor\":\"rgb(232,232,232)\",\"linecolor\":\"rgb(36,36,36)\",\"showgrid\":false,\"showline\":true,\"ticks\":\"outside\"},\"bgcolor\":\"white\",\"radialaxis\":{\"gridcolor\":\"rgb(232,232,232)\",\"linecolor\":\"rgb(36,36,36)\",\"showgrid\":false,\"showline\":true,\"ticks\":\"outside\"}},\"scene\":{\"xaxis\":{\"backgroundcolor\":\"white\",\"gridcolor\":\"rgb(232,232,232)\",\"gridwidth\":2,\"linecolor\":\"rgb(36,36,36)\",\"showbackground\":true,\"showgrid\":false,\"showline\":true,\"ticks\":\"outside\",\"zeroline\":false,\"zerolinecolor\":\"rgb(36,36,36)\"},\"yaxis\":{\"backgroundcolor\":\"white\",\"gridcolor\":\"rgb(232,232,232)\",\"gridwidth\":2,\"linecolor\":\"rgb(36,36,36)\",\"showbackground\":true,\"showgrid\":false,\"showline\":true,\"ticks\":\"outside\",\"zeroline\":false,\"zerolinecolor\":\"rgb(36,36,36)\"},\"zaxis\":{\"backgroundcolor\":\"white\",\"gridcolor\":\"rgb(232,232,232)\",\"gridwidth\":2,\"linecolor\":\"rgb(36,36,36)\",\"showbackground\":true,\"showgrid\":false,\"showline\":true,\"ticks\":\"outside\",\"zeroline\":false,\"zerolinecolor\":\"rgb(36,36,36)\"}},\"shapedefaults\":{\"fillcolor\":\"black\",\"line\":{\"width\":0},\"opacity\":0.3},\"ternary\":{\"aaxis\":{\"gridcolor\":\"rgb(232,232,232)\",\"linecolor\":\"rgb(36,36,36)\",\"showgrid\":false,\"showline\":true,\"ticks\":\"outside\"},\"baxis\":{\"gridcolor\":\"rgb(232,232,232)\",\"linecolor\":\"rgb(36,36,36)\",\"showgrid\":false,\"showline\":true,\"ticks\":\"outside\"},\"bgcolor\":\"white\",\"caxis\":{\"gridcolor\":\"rgb(232,232,232)\",\"linecolor\":\"rgb(36,36,36)\",\"showgrid\":false,\"showline\":true,\"ticks\":\"outside\"}},\"title\":{\"x\":0.05},\"xaxis\":{\"automargin\":true,\"gridcolor\":\"rgb(232,232,232)\",\"linecolor\":\"rgb(36,36,36)\",\"showgrid\":false,\"showline\":true,\"ticks\":\"outside\",\"title\":{\"standoff\":15},\"zeroline\":false,\"zerolinecolor\":\"rgb(36,36,36)\"},\"yaxis\":{\"automargin\":true,\"gridcolor\":\"rgb(232,232,232)\",\"linecolor\":\"rgb(36,36,36)\",\"showgrid\":false,\"showline\":true,\"ticks\":\"outside\",\"title\":{\"standoff\":15},\"zeroline\":false,\"zerolinecolor\":\"rgb(36,36,36)\"}}},\"yaxis\":{\"title\":{\"text\":\"Test Set Accuracy\"},\"range\":[0,1],\"tickvals\":[0.0,0.1,0.2,0.30000000000000004,0.4,0.5,0.6000000000000001,0.7000000000000001,0.8,0.9,1.0]},\"xaxis\":{\"title\":{\"text\":\"Subjects\"},\"tickangle\":-45},\"legend\":{\"x\":1,\"y\":1},\"title\":{\"text\":\"Classifier Performance for Imagined Movement Condition\"},\"barmode\":\"group\",\"bargap\":0.15,\"bargroupgap\":0.1},                        {\"responsive\": true}                    ).then(function(){\n",
       "                            \n",
       "var gd = document.getElementById('a831dbbe-793f-420b-9196-81adc687330c');\n",
       "var x = new MutationObserver(function (mutations, observer) {{\n",
       "        var display = window.getComputedStyle(gd).display;\n",
       "        if (!display || display === 'none') {{\n",
       "            console.log([gd, 'removed!']);\n",
       "            Plotly.purge(gd);\n",
       "            observer.disconnect();\n",
       "        }}\n",
       "}});\n",
       "\n",
       "// Listen for the removal of the full notebook cells\n",
       "var notebookContainer = gd.closest('#notebook-container');\n",
       "if (notebookContainer) {{\n",
       "    x.observe(notebookContainer, {childList: true});\n",
       "}}\n",
       "\n",
       "// Listen for the clearing of the current output cell\n",
       "var outputEl = gd.closest('.output');\n",
       "if (outputEl) {{\n",
       "    x.observe(outputEl, {childList: true});\n",
       "}}\n",
       "\n",
       "                        })                };                });            </script>        </div>"
      ]
     },
     "metadata": {},
     "output_type": "display_data"
    },
    {
     "name": "stderr",
     "output_type": "stream",
     "text": [
      "gio: file:///home/jabdo/abdo_project/neuromatch_project/Raclette-Group-2-ECoG-Motor-Imagery/code/Imagined_Movement_Condition.html: Failed to find default application for content type ‘text/html’\n"
     ]
    }
   ],
   "source": [
    "num_subjects = performance_df_actual.shape[0]  # Replace with the actual number of subjects\n",
    "# Plot for Actual Movement Condition\n",
    "fig_actual = go.Figure()\n",
    "bar_width = 0.25\n",
    "x_indices = np.arange(num_subjects)\n",
    "colors = ['lightblue', 'lightpink', 'mediumpurple']\n",
    "\n",
    "for i, classifier in enumerate(performance_df_actual.columns):\n",
    "    fig_actual.add_trace(go.Bar(\n",
    "        x=performance_df_actual.index,\n",
    "        y=performance_df_actual[classifier],\n",
    "        name=classifier,\n",
    "        marker_color=colors[i],\n",
    "        width=bar_width\n",
    "    ))\n",
    "\n",
    "fig_actual.update_layout(\n",
    "    title='Classifier Performance for Actual Movement Condition',\n",
    "    xaxis_title='Subjects',\n",
    "    yaxis_title='Test Set Accuracy',\n",
    "    yaxis=dict(range=[0, 1], tickvals=np.arange(0, 1.1, 0.1)),\n",
    "    xaxis=dict(tickangle=-45),\n",
    "    barmode='group',\n",
    "    bargap=0.15,\n",
    "    bargroupgap=0.1,\n",
    "    template='simple_white',\n",
    "    legend=dict(x=1, y=1)\n",
    ")\n",
    "\n",
    "fig_actual.show()\n",
    "pio.write_html(fig_actual, file='Actual_Movement_Condition.html', auto_open=True)\n",
    "\n",
    "# Plot for Imagined Movement Condition\n",
    "fig_imagined = go.Figure()\n",
    "for i, classifier in enumerate(performance_df_imagined.columns):\n",
    "    fig_imagined.add_trace(go.Bar(\n",
    "        x=performance_df_imagined.index,\n",
    "        y=performance_df_imagined[classifier],\n",
    "        name=classifier,\n",
    "        marker_color=colors[i],\n",
    "        width=bar_width\n",
    "    ))\n",
    "\n",
    "fig_imagined.update_layout(\n",
    "    title='Classifier Performance for Imagined Movement Condition',\n",
    "    xaxis_title='Subjects',\n",
    "    yaxis_title='Test Set Accuracy',\n",
    "    yaxis=dict(range=[0, 1], tickvals=np.arange(0, 1.1, 0.1)),\n",
    "    xaxis=dict(tickangle=-45),\n",
    "    barmode='group',\n",
    "    bargap=0.15,\n",
    "    bargroupgap=0.1,\n",
    "    template ='simple_white',\n",
    "    legend=dict(x=1, y=1)\n",
    ")\n",
    "fig_imagined.show()\n",
    "pio.write_html(fig_imagined, file='Imagined_Movement_Condition.html', auto_open=True)"
   ]
  },
  {
   "cell_type": "code",
   "execution_count": null,
   "id": "726fad6f-8cb6-4132-862f-ccaab783b802",
   "metadata": {},
   "outputs": [],
   "source": []
  }
 ],
 "metadata": {
  "kernelspec": {
   "display_name": "Python 3 (ipykernel)",
   "language": "python",
   "name": "python3"
  },
  "language_info": {
   "codemirror_mode": {
    "name": "ipython",
    "version": 3
   },
   "file_extension": ".py",
   "mimetype": "text/x-python",
   "name": "python",
   "nbconvert_exporter": "python",
   "pygments_lexer": "ipython3",
   "version": "3.12.2"
  }
 },
 "nbformat": 4,
 "nbformat_minor": 5
}
